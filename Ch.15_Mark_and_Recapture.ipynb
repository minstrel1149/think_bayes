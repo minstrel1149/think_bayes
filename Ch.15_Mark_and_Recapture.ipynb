{
 "cells": [
  {
   "cell_type": "code",
   "execution_count": 1,
   "metadata": {},
   "outputs": [],
   "source": [
    "from pathlib import Path\n",
    "import pandas as pd\n",
    "import numpy as np\n",
    "import scipy.stats as ss\n",
    "from scipy.interpolate import interp1d\n",
    "from scipy.special import expit\n",
    "from fractions import Fraction\n",
    "from empiricaldist import Pmf, Cdf\n",
    "import matplotlib.pyplot as plt\n",
    "from collections import Counter\n",
    "import statsmodels.formula.api as smfa"
   ]
  },
  {
   "cell_type": "code",
   "execution_count": 2,
   "metadata": {},
   "outputs": [],
   "source": [
    "from data.utils import make_uniform, make_joint, make_joint3, plot_contour, compute_probs"
   ]
  },
  {
   "cell_type": "code",
   "execution_count": 4,
   "metadata": {},
   "outputs": [
    {
     "data": {
      "text/plain": [
       "array([3.83666200e-03, 2.84173101e-02, 9.37771233e-02, 1.82942257e-01,\n",
       "       2.36054525e-01, 2.13573142e-01, 1.40157374e-01, 6.80764389e-02,\n",
       "       2.47550687e-02, 6.77377501e-03, 1.39460074e-03, 2.14977979e-04])"
      ]
     },
     "execution_count": 4,
     "metadata": {},
     "output_type": "execute_result"
    }
   ],
   "source": [
    "N, K, n, k = 100, 23, 19, 4\n",
    "ks = np.arange(12)\n",
    "ps = ss.hypergeom(N, K, n).pmf(ks)\n",
    "ps"
   ]
  },
  {
   "cell_type": "code",
   "execution_count": 15,
   "metadata": {},
   "outputs": [
    {
     "data": {
      "text/plain": [
       "0.07771333079658613"
      ]
     },
     "execution_count": 15,
     "metadata": {},
     "output_type": "execute_result"
    }
   ],
   "source": [
    "qs = np.arange(51, 501)\n",
    "prior_N = make_uniform(qs, name='N')\n",
    "Ns = prior_N.qs\n",
    "likelihood = ss.hypergeom(Ns, K, n).pmf(k)\n",
    "posterior_N = prior_N * likelihood\n",
    "posterior_N.normalize()"
   ]
  },
  {
   "cell_type": "code",
   "execution_count": 16,
   "metadata": {},
   "outputs": [
    {
     "data": {
      "text/plain": [
       "(109, 173.81672819846642, array([ 77., 363.]))"
      ]
     },
     "execution_count": 16,
     "metadata": {},
     "output_type": "execute_result"
    },
    {
     "data": {
      "image/png": "[encoded data removed]",
      "text/plain": [
       "<Figure size 432x288 with 1 Axes>"
      ]
     },
     "metadata": {
      "needs_background": "light"
     },
     "output_type": "display_data"
    }
   ],
   "source": [
    "posterior_N.plot()\n",
    "posterior_N.max_prob(), posterior_N.mean(), posterior_N.credible_interval(0.9)"
   ]
  },
  {
   "cell_type": "code",
   "execution_count": 18,
   "metadata": {},
   "outputs": [],
   "source": [
    "N = 100\n",
    "K, n, k = 23, 19, 4\n",
    "k10 = K - k\n",
    "k01 = n - k\n",
    "k11 = k\n",
    "observed = k10 + k01 + k11\n",
    "k00 = N - observed\n",
    "x = [k00, k01, k10, k11]"
   ]
  },
  {
   "cell_type": "code",
   "execution_count": 19,
   "metadata": {},
   "outputs": [],
   "source": [
    "p = 0.2\n",
    "q = 1 - p\n",
    "y = [q*q, q*p, p*q, p*p]"
   ]
  },
  {
   "cell_type": "code",
   "execution_count": 20,
   "metadata": {},
   "outputs": [
    {
     "data": {
      "text/plain": [
       "0.0016664011988507257"
      ]
     },
     "execution_count": 20,
     "metadata": {},
     "output_type": "execute_result"
    }
   ],
   "source": [
    "# N과 p을 알고 있는 경우의 likelihood → 모를 경우 두 파라미터에 사전분포를 걸어야\n",
    "likelihood = ss.multinomial(N, y).pmf(x)\n",
    "likelihood"
   ]
  },
  {
   "cell_type": "code",
   "execution_count": 22,
   "metadata": {},
   "outputs": [
    {
     "data": {
      "text/html": [
       "<div>\n",
       "<style scoped>\n",
       "    .dataframe tbody tr th:only-of-type {\n",
       "        vertical-align: middle;\n",
       "    }\n",
       "\n",
       "    .dataframe tbody tr th {\n",
       "        vertical-align: top;\n",
       "    }\n",
       "\n",
       "    .dataframe thead th {\n",
       "        text-align: right;\n",
       "    }\n",
       "</style>\n",
       "<table border=\"1\" class=\"dataframe\">\n",
       "  <thead>\n",
       "    <tr style=\"text-align: right;\">\n",
       "      <th></th>\n",
       "      <th></th>\n",
       "      <th>probs</th>\n",
       "    </tr>\n",
       "  </thead>\n",
       "  <tbody>\n",
       "    <tr>\n",
       "      <th rowspan=\"5\" valign=\"top\">50</th>\n",
       "      <th>0.00</th>\n",
       "      <td>0.000022</td>\n",
       "    </tr>\n",
       "    <tr>\n",
       "      <th>0.01</th>\n",
       "      <td>0.000022</td>\n",
       "    </tr>\n",
       "    <tr>\n",
       "      <th>0.02</th>\n",
       "      <td>0.000022</td>\n",
       "    </tr>\n",
       "    <tr>\n",
       "      <th>0.03</th>\n",
       "      <td>0.000022</td>\n",
       "    </tr>\n",
       "    <tr>\n",
       "      <th>0.04</th>\n",
       "      <td>0.000022</td>\n",
       "    </tr>\n",
       "  </tbody>\n",
       "</table>\n",
       "</div>"
      ],
      "text/plain": [
       "50  0.00    0.000022\n",
       "    0.01    0.000022\n",
       "    0.02    0.000022\n",
       "    0.03    0.000022\n",
       "    0.04    0.000022\n",
       "Name: , dtype: float64"
      ]
     },
     "execution_count": 22,
     "metadata": {},
     "output_type": "execute_result"
    }
   ],
   "source": [
    "qs_N = np.arange(50, 501)\n",
    "prior_N = make_uniform(qs_N, name='N')\n",
    "qs_p = np.linspace(0, 0.99, 100)\n",
    "prior_p = make_uniform(qs_p, name='p')\n",
    "prior = make_joint(prior_p, prior_N)\n",
    "joint_pmf = Pmf(prior.stack())\n",
    "joint_pmf.head(5)"
   ]
  },
  {
   "cell_type": "code",
   "execution_count": 23,
   "metadata": {},
   "outputs": [],
   "source": [
    "likelihood = joint_pmf.copy()\n",
    "observed = k01 + k10 + k11\n",
    "for N, p in joint_pmf.copy().index:\n",
    "    k00 = N - observed\n",
    "    x = [k00, k01, k10, k11]\n",
    "    q = 1 - p\n",
    "    y = [q*q, q*p, p*q, p*p]\n",
    "    likelihood[N, p] = ss.multinomial(N, y).pmf(x)"
   ]
  },
  {
   "cell_type": "code",
   "execution_count": 24,
   "metadata": {},
   "outputs": [
    {
     "data": {
      "text/html": [
       "<div>\n",
       "<style scoped>\n",
       "    .dataframe tbody tr th:only-of-type {\n",
       "        vertical-align: middle;\n",
       "    }\n",
       "\n",
       "    .dataframe tbody tr th {\n",
       "        vertical-align: top;\n",
       "    }\n",
       "\n",
       "    .dataframe thead th {\n",
       "        text-align: right;\n",
       "    }\n",
       "</style>\n",
       "<table border=\"1\" class=\"dataframe\">\n",
       "  <thead>\n",
       "    <tr style=\"text-align: right;\">\n",
       "      <th></th>\n",
       "      <th>0.00</th>\n",
       "      <th>0.01</th>\n",
       "      <th>0.02</th>\n",
       "      <th>0.03</th>\n",
       "      <th>0.04</th>\n",
       "      <th>0.05</th>\n",
       "      <th>0.06</th>\n",
       "      <th>0.07</th>\n",
       "      <th>0.08</th>\n",
       "      <th>0.09</th>\n",
       "      <th>...</th>\n",
       "      <th>0.90</th>\n",
       "      <th>0.91</th>\n",
       "      <th>0.92</th>\n",
       "      <th>0.93</th>\n",
       "      <th>0.94</th>\n",
       "      <th>0.95</th>\n",
       "      <th>0.96</th>\n",
       "      <th>0.97</th>\n",
       "      <th>0.98</th>\n",
       "      <th>0.99</th>\n",
       "    </tr>\n",
       "  </thead>\n",
       "  <tbody>\n",
       "    <tr>\n",
       "      <th>50</th>\n",
       "      <td>0.0</td>\n",
       "      <td>6.936668e-60</td>\n",
       "      <td>1.693097e-47</td>\n",
       "      <td>2.323608e-40</td>\n",
       "      <td>2.251960e-35</td>\n",
       "      <td>1.442178e-31</td>\n",
       "      <td>1.652257e-28</td>\n",
       "      <td>5.760210e-26</td>\n",
       "      <td>8.390407e-24</td>\n",
       "      <td>6.264635e-22</td>\n",
       "      <td>...</td>\n",
       "      <td>1.487630e-35</td>\n",
       "      <td>5.249448e-38</td>\n",
       "      <td>8.966390e-41</td>\n",
       "      <td>6.113357e-44</td>\n",
       "      <td>1.254446e-47</td>\n",
       "      <td>4.999900e-52</td>\n",
       "      <td>1.858578e-57</td>\n",
       "      <td>1.628378e-64</td>\n",
       "      <td>1.533008e-74</td>\n",
       "      <td>8.146814e-92</td>\n",
       "    </tr>\n",
       "    <tr>\n",
       "      <th>51</th>\n",
       "      <td>0.0</td>\n",
       "      <td>2.667154e-59</td>\n",
       "      <td>6.379120e-47</td>\n",
       "      <td>8.576956e-40</td>\n",
       "      <td>8.141980e-35</td>\n",
       "      <td>5.106143e-31</td>\n",
       "      <td>5.727435e-28</td>\n",
       "      <td>1.954479e-25</td>\n",
       "      <td>2.786028e-23</td>\n",
       "      <td>2.035192e-21</td>\n",
       "      <td>...</td>\n",
       "      <td>5.836088e-37</td>\n",
       "      <td>1.668113e-39</td>\n",
       "      <td>2.251254e-42</td>\n",
       "      <td>1.175175e-45</td>\n",
       "      <td>1.771664e-49</td>\n",
       "      <td>4.903748e-54</td>\n",
       "      <td>1.166615e-59</td>\n",
       "      <td>5.749427e-67</td>\n",
       "      <td>2.405644e-77</td>\n",
       "      <td>3.196058e-95</td>\n",
       "    </tr>\n",
       "    <tr>\n",
       "      <th>52</th>\n",
       "      <td>0.0</td>\n",
       "      <td>9.709432e-59</td>\n",
       "      <td>2.275560e-46</td>\n",
       "      <td>2.997450e-39</td>\n",
       "      <td>2.787070e-34</td>\n",
       "      <td>1.711652e-30</td>\n",
       "      <td>1.879711e-27</td>\n",
       "      <td>6.278736e-25</td>\n",
       "      <td>8.758636e-23</td>\n",
       "      <td>6.259843e-21</td>\n",
       "      <td>...</td>\n",
       "      <td>2.167690e-38</td>\n",
       "      <td>5.018637e-41</td>\n",
       "      <td>5.351551e-44</td>\n",
       "      <td>2.138819e-47</td>\n",
       "      <td>2.368968e-51</td>\n",
       "      <td>4.553480e-56</td>\n",
       "      <td>6.933029e-62</td>\n",
       "      <td>1.921951e-69</td>\n",
       "      <td>3.574100e-80</td>\n",
       "      <td>1.187107e-98</td>\n",
       "    </tr>\n",
       "    <tr>\n",
       "      <th>53</th>\n",
       "      <td>0.0</td>\n",
       "      <td>3.362396e-58</td>\n",
       "      <td>7.721915e-46</td>\n",
       "      <td>9.965063e-39</td>\n",
       "      <td>9.075591e-34</td>\n",
       "      <td>5.458173e-30</td>\n",
       "      <td>5.868559e-27</td>\n",
       "      <td>1.918769e-24</td>\n",
       "      <td>2.619369e-22</td>\n",
       "      <td>1.831601e-20</td>\n",
       "      <td>...</td>\n",
       "      <td>7.659171e-40</td>\n",
       "      <td>1.436334e-42</td>\n",
       "      <td>1.210164e-45</td>\n",
       "      <td>3.703009e-49</td>\n",
       "      <td>3.013327e-53</td>\n",
       "      <td>4.022241e-58</td>\n",
       "      <td>3.919472e-64</td>\n",
       "      <td>6.111805e-72</td>\n",
       "      <td>5.051394e-83</td>\n",
       "      <td>4.194445e-102</td>\n",
       "    </tr>\n",
       "    <tr>\n",
       "      <th>54</th>\n",
       "      <td>0.0</td>\n",
       "      <td>1.112226e-57</td>\n",
       "      <td>2.502943e-45</td>\n",
       "      <td>3.164443e-38</td>\n",
       "      <td>2.822872e-33</td>\n",
       "      <td>1.662525e-29</td>\n",
       "      <td>1.750092e-26</td>\n",
       "      <td>5.600959e-24</td>\n",
       "      <td>7.482491e-22</td>\n",
       "      <td>5.119027e-20</td>\n",
       "      <td>...</td>\n",
       "      <td>2.584970e-41</td>\n",
       "      <td>3.926578e-44</td>\n",
       "      <td>2.613954e-47</td>\n",
       "      <td>6.123851e-51</td>\n",
       "      <td>3.661192e-55</td>\n",
       "      <td>3.393766e-60</td>\n",
       "      <td>2.116515e-66</td>\n",
       "      <td>1.856461e-74</td>\n",
       "      <td>6.819382e-86</td>\n",
       "      <td>1.415625e-105</td>\n",
       "    </tr>\n",
       "    <tr>\n",
       "      <th>...</th>\n",
       "      <td>...</td>\n",
       "      <td>...</td>\n",
       "      <td>...</td>\n",
       "      <td>...</td>\n",
       "      <td>...</td>\n",
       "      <td>...</td>\n",
       "      <td>...</td>\n",
       "      <td>...</td>\n",
       "      <td>...</td>\n",
       "      <td>...</td>\n",
       "      <td>...</td>\n",
       "      <td>...</td>\n",
       "      <td>...</td>\n",
       "      <td>...</td>\n",
       "      <td>...</td>\n",
       "      <td>...</td>\n",
       "      <td>...</td>\n",
       "      <td>...</td>\n",
       "      <td>...</td>\n",
       "      <td>...</td>\n",
       "      <td>...</td>\n",
       "    </tr>\n",
       "    <tr>\n",
       "      <th>496</th>\n",
       "      <td>0.0</td>\n",
       "      <td>8.742606e-18</td>\n",
       "      <td>2.490220e-09</td>\n",
       "      <td>3.634514e-06</td>\n",
       "      <td>3.407196e-05</td>\n",
       "      <td>1.915893e-05</td>\n",
       "      <td>1.745900e-06</td>\n",
       "      <td>4.376479e-08</td>\n",
       "      <td>4.134486e-10</td>\n",
       "      <td>1.801831e-12</td>\n",
       "      <td>...</td>\n",
       "      <td>0.000000e+00</td>\n",
       "      <td>0.000000e+00</td>\n",
       "      <td>0.000000e+00</td>\n",
       "      <td>0.000000e+00</td>\n",
       "      <td>0.000000e+00</td>\n",
       "      <td>0.000000e+00</td>\n",
       "      <td>0.000000e+00</td>\n",
       "      <td>0.000000e+00</td>\n",
       "      <td>0.000000e+00</td>\n",
       "      <td>0.000000e+00</td>\n",
       "    </tr>\n",
       "    <tr>\n",
       "      <th>497</th>\n",
       "      <td>0.0</td>\n",
       "      <td>9.278014e-18</td>\n",
       "      <td>2.589606e-09</td>\n",
       "      <td>3.702827e-06</td>\n",
       "      <td>3.400034e-05</td>\n",
       "      <td>1.872243e-05</td>\n",
       "      <td>1.670394e-06</td>\n",
       "      <td>4.098590e-08</td>\n",
       "      <td>3.789142e-10</td>\n",
       "      <td>1.615625e-12</td>\n",
       "      <td>...</td>\n",
       "      <td>0.000000e+00</td>\n",
       "      <td>0.000000e+00</td>\n",
       "      <td>0.000000e+00</td>\n",
       "      <td>0.000000e+00</td>\n",
       "      <td>0.000000e+00</td>\n",
       "      <td>0.000000e+00</td>\n",
       "      <td>0.000000e+00</td>\n",
       "      <td>0.000000e+00</td>\n",
       "      <td>0.000000e+00</td>\n",
       "      <td>0.000000e+00</td>\n",
       "    </tr>\n",
       "    <tr>\n",
       "      <th>498</th>\n",
       "      <td>0.0</td>\n",
       "      <td>9.844574e-18</td>\n",
       "      <td>2.692510e-09</td>\n",
       "      <td>3.771798e-06</td>\n",
       "      <td>3.392323e-05</td>\n",
       "      <td>1.829283e-05</td>\n",
       "      <td>1.597887e-06</td>\n",
       "      <td>3.837707e-08</td>\n",
       "      <td>3.472066e-10</td>\n",
       "      <td>1.448421e-12</td>\n",
       "      <td>...</td>\n",
       "      <td>0.000000e+00</td>\n",
       "      <td>0.000000e+00</td>\n",
       "      <td>0.000000e+00</td>\n",
       "      <td>0.000000e+00</td>\n",
       "      <td>0.000000e+00</td>\n",
       "      <td>0.000000e+00</td>\n",
       "      <td>0.000000e+00</td>\n",
       "      <td>0.000000e+00</td>\n",
       "      <td>0.000000e+00</td>\n",
       "      <td>0.000000e+00</td>\n",
       "    </tr>\n",
       "    <tr>\n",
       "      <th>499</th>\n",
       "      <td>0.0</td>\n",
       "      <td>1.044400e-17</td>\n",
       "      <td>2.799040e-09</td>\n",
       "      <td>3.841418e-06</td>\n",
       "      <td>3.384070e-05</td>\n",
       "      <td>1.787013e-05</td>\n",
       "      <td>1.528275e-06</td>\n",
       "      <td>3.592836e-08</td>\n",
       "      <td>3.180997e-10</td>\n",
       "      <td>1.298307e-12</td>\n",
       "      <td>...</td>\n",
       "      <td>0.000000e+00</td>\n",
       "      <td>0.000000e+00</td>\n",
       "      <td>0.000000e+00</td>\n",
       "      <td>0.000000e+00</td>\n",
       "      <td>0.000000e+00</td>\n",
       "      <td>0.000000e+00</td>\n",
       "      <td>0.000000e+00</td>\n",
       "      <td>0.000000e+00</td>\n",
       "      <td>0.000000e+00</td>\n",
       "      <td>0.000000e+00</td>\n",
       "    </tr>\n",
       "    <tr>\n",
       "      <th>500</th>\n",
       "      <td>0.0</td>\n",
       "      <td>1.107810e-17</td>\n",
       "      <td>2.909305e-09</td>\n",
       "      <td>3.911677e-06</td>\n",
       "      <td>3.375280e-05</td>\n",
       "      <td>1.745432e-05</td>\n",
       "      <td>1.461454e-06</td>\n",
       "      <td>3.363034e-08</td>\n",
       "      <td>2.913848e-10</td>\n",
       "      <td>1.163558e-12</td>\n",
       "      <td>...</td>\n",
       "      <td>0.000000e+00</td>\n",
       "      <td>0.000000e+00</td>\n",
       "      <td>0.000000e+00</td>\n",
       "      <td>0.000000e+00</td>\n",
       "      <td>0.000000e+00</td>\n",
       "      <td>0.000000e+00</td>\n",
       "      <td>0.000000e+00</td>\n",
       "      <td>0.000000e+00</td>\n",
       "      <td>0.000000e+00</td>\n",
       "      <td>0.000000e+00</td>\n",
       "    </tr>\n",
       "  </tbody>\n",
       "</table>\n",
       "<p>451 rows × 100 columns</p>\n",
       "</div>"
      ],
      "text/plain": [
       "     0.00          0.01          0.02          0.03          0.04  \\\n",
       "50    0.0  6.936668e-60  1.693097e-47  2.323608e-40  2.251960e-35   \n",
       "51    0.0  2.667154e-59  6.379120e-47  8.576956e-40  8.141980e-35   \n",
       "52    0.0  9.709432e-59  2.275560e-46  2.997450e-39  2.787070e-34   \n",
       "53    0.0  3.362396e-58  7.721915e-46  9.965063e-39  9.075591e-34   \n",
       "54    0.0  1.112226e-57  2.502943e-45  3.164443e-38  2.822872e-33   \n",
       "..    ...           ...           ...           ...           ...   \n",
       "496   0.0  8.742606e-18  2.490220e-09  3.634514e-06  3.407196e-05   \n",
       "497   0.0  9.278014e-18  2.589606e-09  3.702827e-06  3.400034e-05   \n",
       "498   0.0  9.844574e-18  2.692510e-09  3.771798e-06  3.392323e-05   \n",
       "499   0.0  1.044400e-17  2.799040e-09  3.841418e-06  3.384070e-05   \n",
       "500   0.0  1.107810e-17  2.909305e-09  3.911677e-06  3.375280e-05   \n",
       "\n",
       "             0.05          0.06          0.07          0.08          0.09  \\\n",
       "50   1.442178e-31  1.652257e-28  5.760210e-26  8.390407e-24  6.264635e-22   \n",
       "51   5.106143e-31  5.727435e-28  1.954479e-25  2.786028e-23  2.035192e-21   \n",
       "52   1.711652e-30  1.879711e-27  6.278736e-25  8.758636e-23  6.259843e-21   \n",
       "53   5.458173e-30  5.868559e-27  1.918769e-24  2.619369e-22  1.831601e-20   \n",
       "54   1.662525e-29  1.750092e-26  5.600959e-24  7.482491e-22  5.119027e-20   \n",
       "..            ...           ...           ...           ...           ...   \n",
       "496  1.915893e-05  1.745900e-06  4.376479e-08  4.134486e-10  1.801831e-12   \n",
       "497  1.872243e-05  1.670394e-06  4.098590e-08  3.789142e-10  1.615625e-12   \n",
       "498  1.829283e-05  1.597887e-06  3.837707e-08  3.472066e-10  1.448421e-12   \n",
       "499  1.787013e-05  1.528275e-06  3.592836e-08  3.180997e-10  1.298307e-12   \n",
       "500  1.745432e-05  1.461454e-06  3.363034e-08  2.913848e-10  1.163558e-12   \n",
       "\n",
       "     ...          0.90          0.91          0.92          0.93  \\\n",
       "50   ...  1.487630e-35  5.249448e-38  8.966390e-41  6.113357e-44   \n",
       "51   ...  5.836088e-37  1.668113e-39  2.251254e-42  1.175175e-45   \n",
       "52   ...  2.167690e-38  5.018637e-41  5.351551e-44  2.138819e-47   \n",
       "53   ...  7.659171e-40  1.436334e-42  1.210164e-45  3.703009e-49   \n",
       "54   ...  2.584970e-41  3.926578e-44  2.613954e-47  6.123851e-51   \n",
       "..   ...           ...           ...           ...           ...   \n",
       "496  ...  0.000000e+00  0.000000e+00  0.000000e+00  0.000000e+00   \n",
       "497  ...  0.000000e+00  0.000000e+00  0.000000e+00  0.000000e+00   \n",
       "498  ...  0.000000e+00  0.000000e+00  0.000000e+00  0.000000e+00   \n",
       "499  ...  0.000000e+00  0.000000e+00  0.000000e+00  0.000000e+00   \n",
       "500  ...  0.000000e+00  0.000000e+00  0.000000e+00  0.000000e+00   \n",
       "\n",
       "             0.94          0.95          0.96          0.97          0.98  \\\n",
       "50   1.254446e-47  4.999900e-52  1.858578e-57  1.628378e-64  1.533008e-74   \n",
       "51   1.771664e-49  4.903748e-54  1.166615e-59  5.749427e-67  2.405644e-77   \n",
       "52   2.368968e-51  4.553480e-56  6.933029e-62  1.921951e-69  3.574100e-80   \n",
       "53   3.013327e-53  4.022241e-58  3.919472e-64  6.111805e-72  5.051394e-83   \n",
       "54   3.661192e-55  3.393766e-60  2.116515e-66  1.856461e-74  6.819382e-86   \n",
       "..            ...           ...           ...           ...           ...   \n",
       "496  0.000000e+00  0.000000e+00  0.000000e+00  0.000000e+00  0.000000e+00   \n",
       "497  0.000000e+00  0.000000e+00  0.000000e+00  0.000000e+00  0.000000e+00   \n",
       "498  0.000000e+00  0.000000e+00  0.000000e+00  0.000000e+00  0.000000e+00   \n",
       "499  0.000000e+00  0.000000e+00  0.000000e+00  0.000000e+00  0.000000e+00   \n",
       "500  0.000000e+00  0.000000e+00  0.000000e+00  0.000000e+00  0.000000e+00   \n",
       "\n",
       "              0.99  \n",
       "50    8.146814e-92  \n",
       "51    3.196058e-95  \n",
       "52    1.187107e-98  \n",
       "53   4.194445e-102  \n",
       "54   1.415625e-105  \n",
       "..             ...  \n",
       "496   0.000000e+00  \n",
       "497   0.000000e+00  \n",
       "498   0.000000e+00  \n",
       "499   0.000000e+00  \n",
       "500   0.000000e+00  \n",
       "\n",
       "[451 rows x 100 columns]"
      ]
     },
     "execution_count": 24,
     "metadata": {},
     "output_type": "execute_result"
    }
   ],
   "source": [
    "posterior = joint_pmf * likelihood\n",
    "posterior.normalize()\n",
    "joint_posterior = posterior.unstack()\n",
    "joint_posterior"
   ]
  },
  {
   "cell_type": "code",
   "execution_count": 25,
   "metadata": {},
   "outputs": [
    {
     "data": {
      "image/png": "[encoded data removed]",
      "text/plain": [
       "<Figure size 432x288 with 1 Axes>"
      ]
     },
     "metadata": {
      "needs_background": "light"
     },
     "output_type": "display_data"
    }
   ],
   "source": [
    "plot_contour(joint_posterior)"
   ]
  },
  {
   "cell_type": "code",
   "execution_count": 26,
   "metadata": {},
   "outputs": [],
   "source": [
    "posterior_p2 = posterior.marginal(1)\n",
    "posterior_N2 = posterior.marginal(0)"
   ]
  },
  {
   "cell_type": "code",
   "execution_count": 27,
   "metadata": {},
   "outputs": [
    {
     "data": {
      "image/png": "[encoded data removed]",
      "text/plain": [
       "<Figure size 864x216 with 1 Axes>"
      ]
     },
     "metadata": {
      "needs_background": "light"
     },
     "output_type": "display_data"
    }
   ],
   "source": [
    "fig, ax = plt.subplots(1, 1, figsize=(12, 3))\n",
    "posterior_N.plot(ax=ax, label='one-parameter')\n",
    "posterior_N2.plot(ax=ax, label='two-parameter')\n",
    "plt.legend()\n",
    "plt.show()"
   ]
  },
  {
   "cell_type": "code",
   "execution_count": 29,
   "metadata": {},
   "outputs": [
    {
     "data": {
      "text/html": [
       "<div>\n",
       "<style scoped>\n",
       "    .dataframe tbody tr th:only-of-type {\n",
       "        vertical-align: middle;\n",
       "    }\n",
       "\n",
       "    .dataframe tbody tr th {\n",
       "        vertical-align: top;\n",
       "    }\n",
       "\n",
       "    .dataframe thead th {\n",
       "        text-align: right;\n",
       "    }\n",
       "</style>\n",
       "<table border=\"1\" class=\"dataframe\">\n",
       "  <thead>\n",
       "    <tr style=\"text-align: right;\">\n",
       "      <th></th>\n",
       "      <th></th>\n",
       "      <th></th>\n",
       "      <th>probs</th>\n",
       "    </tr>\n",
       "  </thead>\n",
       "  <tbody>\n",
       "    <tr>\n",
       "      <th rowspan=\"5\" valign=\"top\">32</th>\n",
       "      <th rowspan=\"5\" valign=\"top\">0.0</th>\n",
       "      <th>0.00</th>\n",
       "      <td>0.000006</td>\n",
       "    </tr>\n",
       "    <tr>\n",
       "      <th>0.02</th>\n",
       "      <td>0.000006</td>\n",
       "    </tr>\n",
       "    <tr>\n",
       "      <th>0.04</th>\n",
       "      <td>0.000006</td>\n",
       "    </tr>\n",
       "    <tr>\n",
       "      <th>0.06</th>\n",
       "      <td>0.000006</td>\n",
       "    </tr>\n",
       "    <tr>\n",
       "      <th>0.08</th>\n",
       "      <td>0.000006</td>\n",
       "    </tr>\n",
       "    <tr>\n",
       "      <th>...</th>\n",
       "      <th>...</th>\n",
       "      <th>...</th>\n",
       "      <td>...</td>\n",
       "    </tr>\n",
       "    <tr>\n",
       "      <th rowspan=\"5\" valign=\"top\">347</th>\n",
       "      <th rowspan=\"5\" valign=\"top\">1.0</th>\n",
       "      <th>0.92</th>\n",
       "      <td>0.000006</td>\n",
       "    </tr>\n",
       "    <tr>\n",
       "      <th>0.94</th>\n",
       "      <td>0.000006</td>\n",
       "    </tr>\n",
       "    <tr>\n",
       "      <th>0.96</th>\n",
       "      <td>0.000006</td>\n",
       "    </tr>\n",
       "    <tr>\n",
       "      <th>0.98</th>\n",
       "      <td>0.000006</td>\n",
       "    </tr>\n",
       "    <tr>\n",
       "      <th>1.00</th>\n",
       "      <td>0.000006</td>\n",
       "    </tr>\n",
       "  </tbody>\n",
       "</table>\n",
       "<p>166464 rows × 1 columns</p>\n",
       "</div>"
      ],
      "text/plain": [
       "32   0.0  0.00    0.000006\n",
       "          0.02    0.000006\n",
       "          0.04    0.000006\n",
       "          0.06    0.000006\n",
       "          0.08    0.000006\n",
       "                    ...   \n",
       "347  1.0  0.92    0.000006\n",
       "          0.94    0.000006\n",
       "          0.96    0.000006\n",
       "          0.98    0.000006\n",
       "          1.00    0.000006\n",
       "Name: , Length: 166464, dtype: float64"
      ]
     },
     "execution_count": 29,
     "metadata": {},
     "output_type": "execute_result"
    }
   ],
   "source": [
    "qs_N = np.arange(32, 350, 5)\n",
    "qs_p = np.linspace(0, 1, 51)\n",
    "prior_N = make_uniform(qs_N, name='N')\n",
    "prior_p0 = make_uniform(qs_p, name='p0')\n",
    "prior_p1 = make_uniform(qs_p, name='p1')\n",
    "prior = make_joint3(prior_N, prior_p0, prior_p1)\n",
    "prior"
   ]
  },
  {
   "cell_type": "code",
   "execution_count": 30,
   "metadata": {},
   "outputs": [],
   "source": [
    "K, n, k = 20, 15, 3\n",
    "k10 = K - k\n",
    "k01 = n - k\n",
    "k11 = k\n",
    "data = np.array([0, k01, k10, k11])"
   ]
  },
  {
   "cell_type": "code",
   "execution_count": 31,
   "metadata": {},
   "outputs": [],
   "source": [
    "likelihood = prior.copy()\n",
    "observed = data.sum()\n",
    "x = data.copy()\n",
    "for N, p0, p1 in prior.index:\n",
    "    x[0] = N - observed\n",
    "    y = compute_probs(p0, p1)\n",
    "    likelihood[N, p0, p1] = ss.multinomial(N, y).pmf(x)"
   ]
  },
  {
   "cell_type": "code",
   "execution_count": 32,
   "metadata": {},
   "outputs": [
    {
     "data": {
      "text/plain": [
       "8.941088283758206e-06"
      ]
     },
     "execution_count": 32,
     "metadata": {},
     "output_type": "execute_result"
    }
   ],
   "source": [
    "posterior = prior * likelihood\n",
    "posterior.normalize()"
   ]
  },
  {
   "cell_type": "code",
   "execution_count": 33,
   "metadata": {},
   "outputs": [],
   "source": [
    "posterior_N = posterior.marginal(0)\n",
    "posterior_p0 = posterior.marginal(1)\n",
    "posterior_p1 = posterior.marginal(2)"
   ]
  },
  {
   "cell_type": "code",
   "execution_count": 34,
   "metadata": {},
   "outputs": [
    {
     "data": {
      "text/plain": [
       "<AxesSubplot:>"
      ]
     },
     "execution_count": 34,
     "metadata": {},
     "output_type": "execute_result"
    },
    {
     "data": {
      "image/png": "[encoded data removed]",
      "text/plain": [
       "<Figure size 864x216 with 1 Axes>"
      ]
     },
     "metadata": {
      "needs_background": "light"
     },
     "output_type": "display_data"
    }
   ],
   "source": [
    "fig, ax = plt.subplots(1, 1, figsize=(12, 3))\n",
    "posterior_N.plot(ax=ax)"
   ]
  },
  {
   "cell_type": "code",
   "execution_count": 35,
   "metadata": {},
   "outputs": [
    {
     "data": {
      "image/png": "[encoded data removed]",
      "text/plain": [
       "<Figure size 864x216 with 1 Axes>"
      ]
     },
     "metadata": {
      "needs_background": "light"
     },
     "output_type": "display_data"
    }
   ],
   "source": [
    "fig, ax = plt.subplots(1, 1, figsize=(12, 3))\n",
    "posterior_p0.plot(ax=ax, label='p0')\n",
    "posterior_p1.plot(ax=ax, label='p1')\n",
    "plt.legend()\n",
    "plt.show()"
   ]
  },
  {
   "cell_type": "code",
   "execution_count": 36,
   "metadata": {},
   "outputs": [
    {
     "data": {
      "text/plain": [
       "(92, 0.22, 0.16)"
      ]
     },
     "execution_count": 36,
     "metadata": {},
     "output_type": "execute_result"
    }
   ],
   "source": [
    "posterior.max_prob()"
   ]
  },
  {
   "cell_type": "code",
   "execution_count": null,
   "metadata": {},
   "outputs": [],
   "source": []
  }
 ],
 "metadata": {
  "kernelspec": {
   "display_name": "base",
   "language": "python",
   "name": "python3"
  },
  "language_info": {
   "codemirror_mode": {
    "name": "ipython",
    "version": 3
   },
   "file_extension": ".py",
   "mimetype": "text/x-python",
   "name": "python",
   "nbconvert_exporter": "python",
   "pygments_lexer": "ipython3",
   "version": "3.10.9"
  },
  "orig_nbformat": 4
 },
 "nbformat": 4,
 "nbformat_minor": 2
}
