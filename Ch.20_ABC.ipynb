{
 "cells": [
  {
   "cell_type": "code",
   "execution_count": 1,
   "metadata": {},
   "outputs": [],
   "source": [
    "from pathlib import Path\n",
    "import pandas as pd\n",
    "import numpy as np\n",
    "import scipy.stats as ss\n",
    "from scipy.interpolate import interp1d\n",
    "from scipy.special import expit\n",
    "from fractions import Fraction\n",
    "from empiricaldist import Pmf, Cdf\n",
    "import matplotlib.pyplot as plt\n",
    "from collections import Counter\n",
    "import statsmodels.formula.api as smfa"
   ]
  },
  {
   "cell_type": "code",
   "execution_count": 2,
   "metadata": {},
   "outputs": [],
   "source": [
    "from data.utils import calc_volume, calc_diameter, kde_from_sample, interpolate_ages"
   ]
  },
  {
   "cell_type": "code",
   "execution_count": 3,
   "metadata": {},
   "outputs": [],
   "source": [
    "d1 = 1\n",
    "# 지름을 부피로\n",
    "v1 = calc_volume(d1)\n",
    "median_doubling_time = 811\n",
    "rdt = 365 / median_doubling_time\n",
    "interval = 9.0\n",
    "doublings = interval * rdt\n",
    "v2 = v1 * 2**doublings\n",
    "# 부피를 지름으로\n",
    "d2 = calc_diameter(v2)"
   ]
  },
  {
   "cell_type": "code",
   "execution_count": 4,
   "metadata": {},
   "outputs": [
    {
     "data": {
      "text/plain": [
       "(8.676351488087187, 2.5494480788327483)"
      ]
     },
     "execution_count": 4,
     "metadata": {},
     "output_type": "execute_result"
    }
   ],
   "source": [
    "v2, d2"
   ]
  },
  {
   "cell_type": "code",
   "execution_count": 5,
   "metadata": {},
   "outputs": [],
   "source": [
    "rdts = [5.089,  3.572,  3.242,  2.642,  1.982,  1.847,  1.908,  1.798,\n",
    "        1.798,  1.761,  2.703, -0.416,  0.024,  0.869,  0.746,  0.257,\n",
    "        0.269,  0.086,  0.086,  1.321,  1.052,  1.076,  0.758,  0.587,\n",
    "        0.367,  0.416,  0.073,  0.538,  0.281,  0.122, -0.869, -1.431,\n",
    "        0.012,  0.037, -0.135,  0.122,  0.208,  0.245,  0.404,  0.648,\n",
    "        0.673,  0.673,  0.563,  0.391,  0.049,  0.538,  0.514,  0.404,\n",
    "        0.404,  0.33,  -0.061,  0.538,  0.306]\n",
    "rdt_sample = np.array(rdts)"
   ]
  },
  {
   "cell_type": "code",
   "execution_count": 9,
   "metadata": {},
   "outputs": [
    {
     "data": {
      "text/html": [
       "<div>\n",
       "<style scoped>\n",
       "    .dataframe tbody tr th:only-of-type {\n",
       "        vertical-align: middle;\n",
       "    }\n",
       "\n",
       "    .dataframe tbody tr th {\n",
       "        vertical-align: top;\n",
       "    }\n",
       "\n",
       "    .dataframe thead th {\n",
       "        text-align: right;\n",
       "    }\n",
       "</style>\n",
       "<table border=\"1\" class=\"dataframe\">\n",
       "  <thead>\n",
       "    <tr style=\"text-align: right;\">\n",
       "      <th></th>\n",
       "      <th>probs</th>\n",
       "    </tr>\n",
       "  </thead>\n",
       "  <tbody>\n",
       "    <tr>\n",
       "      <th>-2.00</th>\n",
       "      <td>0.000373</td>\n",
       "    </tr>\n",
       "    <tr>\n",
       "      <th>-1.96</th>\n",
       "      <td>0.000413</td>\n",
       "    </tr>\n",
       "    <tr>\n",
       "      <th>-1.92</th>\n",
       "      <td>0.000455</td>\n",
       "    </tr>\n",
       "    <tr>\n",
       "      <th>-1.88</th>\n",
       "      <td>0.000499</td>\n",
       "    </tr>\n",
       "    <tr>\n",
       "      <th>-1.84</th>\n",
       "      <td>0.000545</td>\n",
       "    </tr>\n",
       "    <tr>\n",
       "      <th>...</th>\n",
       "      <td>...</td>\n",
       "    </tr>\n",
       "    <tr>\n",
       "      <th>5.84</th>\n",
       "      <td>0.000198</td>\n",
       "    </tr>\n",
       "    <tr>\n",
       "      <th>5.88</th>\n",
       "      <td>0.000176</td>\n",
       "    </tr>\n",
       "    <tr>\n",
       "      <th>5.92</th>\n",
       "      <td>0.000155</td>\n",
       "    </tr>\n",
       "    <tr>\n",
       "      <th>5.96</th>\n",
       "      <td>0.000136</td>\n",
       "    </tr>\n",
       "    <tr>\n",
       "      <th>6.00</th>\n",
       "      <td>0.000118</td>\n",
       "    </tr>\n",
       "  </tbody>\n",
       "</table>\n",
       "<p>201 rows × 1 columns</p>\n",
       "</div>"
      ],
      "text/plain": [
       "-2.00    0.000373\n",
       "-1.96    0.000413\n",
       "-1.92    0.000455\n",
       "-1.88    0.000499\n",
       "-1.84    0.000545\n",
       "           ...   \n",
       " 5.84    0.000198\n",
       " 5.88    0.000176\n",
       " 5.92    0.000155\n",
       " 5.96    0.000136\n",
       " 6.00    0.000118\n",
       "Name: , Length: 201, dtype: float64"
      ]
     },
     "execution_count": 9,
     "metadata": {},
     "output_type": "execute_result"
    },
    {
     "data": {
      "image/png": "[encoded data removed]",
      "text/plain": [
       "<Figure size 432x288 with 1 Axes>"
      ]
     },
     "metadata": {
      "needs_background": "light"
     },
     "output_type": "display_data"
    }
   ],
   "source": [
    "qs = np.linspace(-2, 6, 201)\n",
    "pmf_rdt = kde_from_sample(rdt_sample, qs)\n",
    "pmf_rdt.plot()\n",
    "pmf_rdt"
   ]
  },
  {
   "cell_type": "code",
   "execution_count": 7,
   "metadata": {},
   "outputs": [],
   "source": [
    "interval = 1\n",
    "min_diameter = 0.3\n",
    "max_diameter = 20"
   ]
  },
  {
   "cell_type": "code",
   "execution_count": 8,
   "metadata": {},
   "outputs": [
    {
     "data": {
      "text/plain": [
       "(0.014137166941154066, 4188.790204786391)"
      ]
     },
     "execution_count": 8,
     "metadata": {},
     "output_type": "execute_result"
    }
   ],
   "source": [
    "v0 = calc_volume(min_diameter)\n",
    "vmax = calc_volume(max_diameter)\n",
    "v0, vmax"
   ]
  },
  {
   "cell_type": "code",
   "execution_count": 10,
   "metadata": {},
   "outputs": [],
   "source": [
    "def simulate_growth(pmf_rdt):\n",
    "    age = 0\n",
    "    volume = v0\n",
    "    res = []\n",
    "    \n",
    "    while True:\n",
    "        res.append((age, volume))\n",
    "        if volume > vmax:\n",
    "            break\n",
    "\n",
    "        rdt = pmf_rdt.choice()\n",
    "        age += interval \n",
    "        doublings = rdt * interval\n",
    "        volume *= 2**doublings\n",
    "        \n",
    "    columns = ['age', 'volume']\n",
    "    sim = pd.DataFrame(res, columns=columns)\n",
    "    sim['diameter'] = calc_diameter(sim['volume'])\n",
    "    return sim"
   ]
  },
  {
   "cell_type": "code",
   "execution_count": 12,
   "metadata": {},
   "outputs": [
    {
     "data": {
      "text/html": [
       "<div>\n",
       "<style scoped>\n",
       "    .dataframe tbody tr th:only-of-type {\n",
       "        vertical-align: middle;\n",
       "    }\n",
       "\n",
       "    .dataframe tbody tr th {\n",
       "        vertical-align: top;\n",
       "    }\n",
       "\n",
       "    .dataframe thead th {\n",
       "        text-align: right;\n",
       "    }\n",
       "</style>\n",
       "<table border=\"1\" class=\"dataframe\">\n",
       "  <thead>\n",
       "    <tr style=\"text-align: right;\">\n",
       "      <th></th>\n",
       "      <th>age</th>\n",
       "      <th>volume</th>\n",
       "      <th>diameter</th>\n",
       "    </tr>\n",
       "  </thead>\n",
       "  <tbody>\n",
       "    <tr>\n",
       "      <th>0</th>\n",
       "      <td>0</td>\n",
       "      <td>0.014137</td>\n",
       "      <td>0.300000</td>\n",
       "    </tr>\n",
       "    <tr>\n",
       "      <th>1</th>\n",
       "      <td>1</td>\n",
       "      <td>0.017648</td>\n",
       "      <td>0.323021</td>\n",
       "    </tr>\n",
       "    <tr>\n",
       "      <th>2</th>\n",
       "      <td>2</td>\n",
       "      <td>0.083368</td>\n",
       "      <td>0.542001</td>\n",
       "    </tr>\n",
       "    <tr>\n",
       "      <th>3</th>\n",
       "      <td>3</td>\n",
       "      <td>0.315484</td>\n",
       "      <td>0.844616</td>\n",
       "    </tr>\n",
       "    <tr>\n",
       "      <th>4</th>\n",
       "      <td>4</td>\n",
       "      <td>0.452389</td>\n",
       "      <td>0.952441</td>\n",
       "    </tr>\n",
       "    <tr>\n",
       "      <th>5</th>\n",
       "      <td>5</td>\n",
       "      <td>1.068537</td>\n",
       "      <td>1.268422</td>\n",
       "    </tr>\n",
       "    <tr>\n",
       "      <th>6</th>\n",
       "      <td>6</td>\n",
       "      <td>10.671099</td>\n",
       "      <td>2.731514</td>\n",
       "    </tr>\n",
       "    <tr>\n",
       "      <th>7</th>\n",
       "      <td>7</td>\n",
       "      <td>18.071406</td>\n",
       "      <td>3.255850</td>\n",
       "    </tr>\n",
       "    <tr>\n",
       "      <th>8</th>\n",
       "      <td>8</td>\n",
       "      <td>25.913587</td>\n",
       "      <td>3.671495</td>\n",
       "    </tr>\n",
       "    <tr>\n",
       "      <th>9</th>\n",
       "      <td>9</td>\n",
       "      <td>136.772734</td>\n",
       "      <td>6.392445</td>\n",
       "    </tr>\n",
       "    <tr>\n",
       "      <th>10</th>\n",
       "      <td>10</td>\n",
       "      <td>175.537669</td>\n",
       "      <td>6.946892</td>\n",
       "    </tr>\n",
       "    <tr>\n",
       "      <th>11</th>\n",
       "      <td>11</td>\n",
       "      <td>371.092966</td>\n",
       "      <td>8.915822</td>\n",
       "    </tr>\n",
       "    <tr>\n",
       "      <th>12</th>\n",
       "      <td>12</td>\n",
       "      <td>532.130707</td>\n",
       "      <td>10.054024</td>\n",
       "    </tr>\n",
       "    <tr>\n",
       "      <th>13</th>\n",
       "      <td>13</td>\n",
       "      <td>403.279664</td>\n",
       "      <td>9.166479</td>\n",
       "    </tr>\n",
       "    <tr>\n",
       "      <th>14</th>\n",
       "      <td>14</td>\n",
       "      <td>611.257667</td>\n",
       "      <td>10.529520</td>\n",
       "    </tr>\n",
       "    <tr>\n",
       "      <th>15</th>\n",
       "      <td>15</td>\n",
       "      <td>305.628834</td>\n",
       "      <td>8.357285</td>\n",
       "    </tr>\n",
       "    <tr>\n",
       "      <th>16</th>\n",
       "      <td>16</td>\n",
       "      <td>664.275017</td>\n",
       "      <td>10.825545</td>\n",
       "    </tr>\n",
       "    <tr>\n",
       "      <th>17</th>\n",
       "      <td>17</td>\n",
       "      <td>721.890819</td>\n",
       "      <td>11.129892</td>\n",
       "    </tr>\n",
       "    <tr>\n",
       "      <th>18</th>\n",
       "      <td>18</td>\n",
       "      <td>763.051619</td>\n",
       "      <td>11.337530</td>\n",
       "    </tr>\n",
       "    <tr>\n",
       "      <th>19</th>\n",
       "      <td>19</td>\n",
       "      <td>1292.220763</td>\n",
       "      <td>13.513858</td>\n",
       "    </tr>\n",
       "    <tr>\n",
       "      <th>20</th>\n",
       "      <td>20</td>\n",
       "      <td>1852.986745</td>\n",
       "      <td>15.239050</td>\n",
       "    </tr>\n",
       "    <tr>\n",
       "      <th>21</th>\n",
       "      <td>21</td>\n",
       "      <td>2657.100068</td>\n",
       "      <td>17.184481</td>\n",
       "    </tr>\n",
       "    <tr>\n",
       "      <th>22</th>\n",
       "      <td>22</td>\n",
       "      <td>3917.280837</td>\n",
       "      <td>19.558192</td>\n",
       "    </tr>\n",
       "    <tr>\n",
       "      <th>23</th>\n",
       "      <td>23</td>\n",
       "      <td>4140.636515</td>\n",
       "      <td>19.923065</td>\n",
       "    </tr>\n",
       "    <tr>\n",
       "      <th>24</th>\n",
       "      <td>24</td>\n",
       "      <td>10337.766107</td>\n",
       "      <td>27.027717</td>\n",
       "    </tr>\n",
       "  </tbody>\n",
       "</table>\n",
       "</div>"
      ],
      "text/plain": [
       "    age        volume   diameter\n",
       "0     0      0.014137   0.300000\n",
       "1     1      0.017648   0.323021\n",
       "2     2      0.083368   0.542001\n",
       "3     3      0.315484   0.844616\n",
       "4     4      0.452389   0.952441\n",
       "5     5      1.068537   1.268422\n",
       "6     6     10.671099   2.731514\n",
       "7     7     18.071406   3.255850\n",
       "8     8     25.913587   3.671495\n",
       "9     9    136.772734   6.392445\n",
       "10   10    175.537669   6.946892\n",
       "11   11    371.092966   8.915822\n",
       "12   12    532.130707  10.054024\n",
       "13   13    403.279664   9.166479\n",
       "14   14    611.257667  10.529520\n",
       "15   15    305.628834   8.357285\n",
       "16   16    664.275017  10.825545\n",
       "17   17    721.890819  11.129892\n",
       "18   18    763.051619  11.337530\n",
       "19   19   1292.220763  13.513858\n",
       "20   20   1852.986745  15.239050\n",
       "21   21   2657.100068  17.184481\n",
       "22   22   3917.280837  19.558192\n",
       "23   23   4140.636515  19.923065\n",
       "24   24  10337.766107  27.027717"
      ]
     },
     "execution_count": 12,
     "metadata": {},
     "output_type": "execute_result"
    }
   ],
   "source": [
    "sim = simulate_growth(pmf_rdt)\n",
    "sim"
   ]
  },
  {
   "cell_type": "code",
   "execution_count": 13,
   "metadata": {},
   "outputs": [
    {
     "data": {
      "image/png": "[encoded data removed]",
      "text/plain": [
       "<Figure size 432x288 with 1 Axes>"
      ]
     },
     "metadata": {
      "needs_background": "light"
     },
     "output_type": "display_data"
    }
   ],
   "source": [
    "sims = [simulate_growth(pmf_rdt) for _ in range(101)]\n",
    "for diameter in [4, 8, 16]:\n",
    "    plt.axhline(diameter, color='C5', linewidth=2, ls=':')\n",
    "\n",
    "for sim in sims:\n",
    "    plt.plot(sim['age'], sim['diameter'], color='C0', linewidth=0.5, alpha=0.5)\n",
    "\n",
    "plt.yscale('log')\n",
    "yticks = [0.2, 0.5, 1, 2, 5, 10, 20]\n",
    "plt.yticks(yticks, yticks)\n",
    "plt.show()"
   ]
  },
  {
   "cell_type": "code",
   "execution_count": 14,
   "metadata": {},
   "outputs": [
    {
     "data": {
      "text/plain": [
       "(array(21.75723987), array([13.45835194, 35.98609596]), array(0.))"
      ]
     },
     "execution_count": 14,
     "metadata": {},
     "output_type": "execute_result"
    }
   ],
   "source": [
    "ages = interpolate_ages(sims, 15)\n",
    "cdf = Cdf.from_seq(ages)\n",
    "cdf.median(), cdf.credible_interval(0.9), cdf(9.0)"
   ]
  },
  {
   "cell_type": "code",
   "execution_count": null,
   "metadata": {},
   "outputs": [],
   "source": []
  }
 ],
 "metadata": {
  "kernelspec": {
   "display_name": "base",
   "language": "python",
   "name": "python3"
  },
  "language_info": {
   "codemirror_mode": {
    "name": "ipython",
    "version": 3
   },
   "file_extension": ".py",
   "mimetype": "text/x-python",
   "name": "python",
   "nbconvert_exporter": "python",
   "pygments_lexer": "ipython3",
   "version": "3.10.9"
  },
  "orig_nbformat": 4
 },
 "nbformat": 4,
 "nbformat_minor": 2
}
