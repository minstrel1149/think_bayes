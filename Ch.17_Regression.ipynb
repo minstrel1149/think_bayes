{
 "cells": [
  {
   "cell_type": "code",
   "execution_count": 1,
   "metadata": {},
   "outputs": [],
   "source": [
    "from pathlib import Path\n",
    "import pandas as pd\n",
    "import numpy as np\n",
    "import scipy.stats as ss\n",
    "from scipy.interpolate import interp1d\n",
    "from scipy.special import expit\n",
    "from fractions import Fraction\n",
    "from empiricaldist import Pmf, Cdf\n",
    "import matplotlib.pyplot as plt\n",
    "from collections import Counter\n",
    "import statsmodels.formula.api as smfa"
   ]
  },
  {
   "cell_type": "code",
   "execution_count": 2,
   "metadata": {},
   "outputs": [],
   "source": [
    "from data.utils import make_uniform, make_joint, make_joint3"
   ]
  },
  {
   "cell_type": "code",
   "execution_count": 3,
   "metadata": {},
   "outputs": [
    {
     "data": {
      "text/html": [
       "<div>\n",
       "<style scoped>\n",
       "    .dataframe tbody tr th:only-of-type {\n",
       "        vertical-align: middle;\n",
       "    }\n",
       "\n",
       "    .dataframe tbody tr th {\n",
       "        vertical-align: top;\n",
       "    }\n",
       "\n",
       "    .dataframe thead th {\n",
       "        text-align: right;\n",
       "    }\n",
       "</style>\n",
       "<table border=\"1\" class=\"dataframe\">\n",
       "  <thead>\n",
       "    <tr style=\"text-align: right;\">\n",
       "      <th></th>\n",
       "      <th>DATE</th>\n",
       "      <th>SNOW</th>\n",
       "      <th>YEAR</th>\n",
       "    </tr>\n",
       "  </thead>\n",
       "  <tbody>\n",
       "    <tr>\n",
       "      <th>0</th>\n",
       "      <td>1967-05-11</td>\n",
       "      <td>0.0</td>\n",
       "      <td>1967</td>\n",
       "    </tr>\n",
       "    <tr>\n",
       "      <th>1</th>\n",
       "      <td>1967-05-12</td>\n",
       "      <td>0.0</td>\n",
       "      <td>1967</td>\n",
       "    </tr>\n",
       "    <tr>\n",
       "      <th>2</th>\n",
       "      <td>1967-05-13</td>\n",
       "      <td>0.0</td>\n",
       "      <td>1967</td>\n",
       "    </tr>\n",
       "    <tr>\n",
       "      <th>3</th>\n",
       "      <td>1967-05-14</td>\n",
       "      <td>0.0</td>\n",
       "      <td>1967</td>\n",
       "    </tr>\n",
       "    <tr>\n",
       "      <th>4</th>\n",
       "      <td>1967-05-15</td>\n",
       "      <td>0.0</td>\n",
       "      <td>1967</td>\n",
       "    </tr>\n",
       "  </tbody>\n",
       "</table>\n",
       "</div>"
      ],
      "text/plain": [
       "        DATE  SNOW  YEAR\n",
       "0 1967-05-11   0.0  1967\n",
       "1 1967-05-12   0.0  1967\n",
       "2 1967-05-13   0.0  1967\n",
       "3 1967-05-14   0.0  1967\n",
       "4 1967-05-15   0.0  1967"
      ]
     },
     "execution_count": 3,
     "metadata": {},
     "output_type": "execute_result"
    }
   ],
   "source": [
    "df = pd.read_csv(Path.cwd() / 'data' / '2239075.csv', usecols= ['DATE', 'SNOW'], parse_dates=['DATE'])\n",
    "df['YEAR'] = df['DATE'].dt.year\n",
    "df.head()\n"
   ]
  },
  {
   "cell_type": "code",
   "execution_count": 4,
   "metadata": {},
   "outputs": [
    {
     "data": {
      "text/plain": [
       "YEAR\n",
       "1967    28.6\n",
       "1968    44.7\n",
       "1969    99.2\n",
       "1970    66.8\n",
       "1971    54.6\n",
       "Name: SNOW, dtype: float64"
      ]
     },
     "execution_count": 4,
     "metadata": {},
     "output_type": "execute_result"
    }
   ],
   "source": [
    "snow = df.groupby('YEAR')['SNOW'].sum()\n",
    "snow.head()"
   ]
  },
  {
   "cell_type": "code",
   "execution_count": 6,
   "metadata": {},
   "outputs": [
    {
     "data": {
      "text/plain": [
       "<matplotlib.collections.PathCollection at 0x204b1cbb9a0>"
      ]
     },
     "execution_count": 6,
     "metadata": {},
     "output_type": "execute_result"
    },
    {
     "data": {
      "image/png": "[encoded data removed]",
      "text/plain": [
       "<Figure size 432x288 with 1 Axes>"
      ]
     },
     "metadata": {
      "needs_background": "light"
     },
     "output_type": "display_data"
    }
   ],
   "source": [
    "plt.scatter(x=snow.index, y=snow.values)"
   ]
  },
  {
   "cell_type": "code",
   "execution_count": 7,
   "metadata": {},
   "outputs": [],
   "source": [
    "pmf_snowfall = Pmf.from_seq(snow)\n",
    "mean, std = pmf_snowfall.mean(), pmf_snowfall.std()"
   ]
  },
  {
   "cell_type": "code",
   "execution_count": 8,
   "metadata": {},
   "outputs": [],
   "source": [
    "dist = ss.norm(mean, std)\n",
    "qs = pmf_snowfall.qs\n",
    "ps = dist.cdf(qs)"
   ]
  },
  {
   "cell_type": "code",
   "execution_count": 9,
   "metadata": {},
   "outputs": [
    {
     "data": {
      "text/plain": [
       "<AxesSubplot:>"
      ]
     },
     "execution_count": 9,
     "metadata": {},
     "output_type": "execute_result"
    },
    {
     "data": {
      "image/png": "[encoded data removed]",
      "text/plain": [
       "<Figure size 432x288 with 1 Axes>"
      ]
     },
     "metadata": {
      "needs_background": "light"
     },
     "output_type": "display_data"
    }
   ],
   "source": [
    "plt.plot(qs, ps, color='C5', label='model')\n",
    "pmf_snowfall.make_cdf().plot(label='data')"
   ]
  },
  {
   "cell_type": "code",
   "execution_count": 12,
   "metadata": {},
   "outputs": [
    {
     "data": {
      "image/png": "[encoded data removed]",
      "text/plain": [
       "<Figure size 432x288 with 1 Axes>"
      ]
     },
     "metadata": {
      "needs_background": "light"
     },
     "output_type": "display_data"
    }
   ],
   "source": [
    "# qq plot을 그려서 정규성 확인\n",
    "ss.probplot(pmf_snowfall.qs, dist=ss.norm, plot=plt)\n",
    "plt.show()"
   ]
  },
  {
   "cell_type": "code",
   "execution_count": 13,
   "metadata": {},
   "outputs": [],
   "source": [
    "data = snow.reset_index()\n",
    "offset = round(data['YEAR'].mean(), 0)\n",
    "data['x'] = data['YEAR'] - offset\n",
    "data['y'] = data['SNOW']"
   ]
  },
  {
   "cell_type": "code",
   "execution_count": 14,
   "metadata": {},
   "outputs": [
    {
     "data": {
      "text/plain": [
       "(Intercept    62.780489\n",
       " x             0.423941\n",
       " dtype: float64,\n",
       " 26.56611464774299)"
      ]
     },
     "execution_count": 14,
     "metadata": {},
     "output_type": "execute_result"
    }
   ],
   "source": [
    "formula = 'y ~ x'\n",
    "results = smfa.ols(formula, data=data).fit()\n",
    "# 잔차의 std는 sigma의 추정값\n",
    "results.params, results.resid.std()"
   ]
  },
  {
   "cell_type": "code",
   "execution_count": 15,
   "metadata": {},
   "outputs": [
    {
     "data": {
      "text/html": [
       "<table class=\"simpletable\">\n",
       "<caption>OLS Regression Results</caption>\n",
       "<tr>\n",
       "  <th>Dep. Variable:</th>            <td>y</td>        <th>  R-squared:         </th> <td>   0.059</td>\n",
       "</tr>\n",
       "<tr>\n",
       "  <th>Model:</th>                   <td>OLS</td>       <th>  Adj. R-squared:    </th> <td>   0.041</td>\n",
       "</tr>\n",
       "<tr>\n",
       "  <th>Method:</th>             <td>Least Squares</td>  <th>  F-statistic:       </th> <td>   3.277</td>\n",
       "</tr>\n",
       "<tr>\n",
       "  <th>Date:</th>             <td>Sat, 16 Sep 2023</td> <th>  Prob (F-statistic):</th>  <td>0.0760</td> \n",
       "</tr>\n",
       "<tr>\n",
       "  <th>Time:</th>                 <td>12:11:03</td>     <th>  Log-Likelihood:    </th> <td> -253.22</td>\n",
       "</tr>\n",
       "<tr>\n",
       "  <th>No. Observations:</th>      <td>    54</td>      <th>  AIC:               </th> <td>   510.4</td>\n",
       "</tr>\n",
       "<tr>\n",
       "  <th>Df Residuals:</th>          <td>    52</td>      <th>  BIC:               </th> <td>   514.4</td>\n",
       "</tr>\n",
       "<tr>\n",
       "  <th>Df Model:</th>              <td>     1</td>      <th>                     </th>     <td> </td>   \n",
       "</tr>\n",
       "<tr>\n",
       "  <th>Covariance Type:</th>      <td>nonrobust</td>    <th>                     </th>     <td> </td>   \n",
       "</tr>\n",
       "</table>\n",
       "<table class=\"simpletable\">\n",
       "<tr>\n",
       "      <td></td>         <th>coef</th>     <th>std err</th>      <th>t</th>      <th>P>|t|</th>  <th>[0.025</th>    <th>0.975]</th>  \n",
       "</tr>\n",
       "<tr>\n",
       "  <th>Intercept</th> <td>   62.7805</td> <td>    3.652</td> <td>   17.192</td> <td> 0.000</td> <td>   55.453</td> <td>   70.108</td>\n",
       "</tr>\n",
       "<tr>\n",
       "  <th>x</th>         <td>    0.4239</td> <td>    0.234</td> <td>    1.810</td> <td> 0.076</td> <td>   -0.046</td> <td>    0.894</td>\n",
       "</tr>\n",
       "</table>\n",
       "<table class=\"simpletable\">\n",
       "<tr>\n",
       "  <th>Omnibus:</th>       <td> 2.563</td> <th>  Durbin-Watson:     </th> <td>   2.080</td>\n",
       "</tr>\n",
       "<tr>\n",
       "  <th>Prob(Omnibus):</th> <td> 0.278</td> <th>  Jarque-Bera (JB):  </th> <td>   1.885</td>\n",
       "</tr>\n",
       "<tr>\n",
       "  <th>Skew:</th>          <td> 0.449</td> <th>  Prob(JB):          </th> <td>   0.390</td>\n",
       "</tr>\n",
       "<tr>\n",
       "  <th>Kurtosis:</th>      <td> 3.173</td> <th>  Cond. No.          </th> <td>    15.6</td>\n",
       "</tr>\n",
       "</table><br/><br/>Notes:<br/>[1] Standard Errors assume that the covariance matrix of the errors is correctly specified."
      ],
      "text/plain": [
       "<class 'statsmodels.iolib.summary.Summary'>\n",
       "\"\"\"\n",
       "                            OLS Regression Results                            \n",
       "==============================================================================\n",
       "Dep. Variable:                      y   R-squared:                       0.059\n",
       "Model:                            OLS   Adj. R-squared:                  0.041\n",
       "Method:                 Least Squares   F-statistic:                     3.277\n",
       "Date:                Sat, 16 Sep 2023   Prob (F-statistic):             0.0760\n",
       "Time:                        12:11:03   Log-Likelihood:                -253.22\n",
       "No. Observations:                  54   AIC:                             510.4\n",
       "Df Residuals:                      52   BIC:                             514.4\n",
       "Df Model:                           1                                         \n",
       "Covariance Type:            nonrobust                                         \n",
       "==============================================================================\n",
       "                 coef    std err          t      P>|t|      [0.025      0.975]\n",
       "------------------------------------------------------------------------------\n",
       "Intercept     62.7805      3.652     17.192      0.000      55.453      70.108\n",
       "x              0.4239      0.234      1.810      0.076      -0.046       0.894\n",
       "==============================================================================\n",
       "Omnibus:                        2.563   Durbin-Watson:                   2.080\n",
       "Prob(Omnibus):                  0.278   Jarque-Bera (JB):                1.885\n",
       "Skew:                           0.449   Prob(JB):                        0.390\n",
       "Kurtosis:                       3.173   Cond. No.                         15.6\n",
       "==============================================================================\n",
       "\n",
       "Notes:\n",
       "[1] Standard Errors assume that the covariance matrix of the errors is correctly specified.\n",
       "\"\"\""
      ]
     },
     "execution_count": 15,
     "metadata": {},
     "output_type": "execute_result"
    }
   ],
   "source": [
    "results.summary()"
   ]
  },
  {
   "cell_type": "code",
   "execution_count": 18,
   "metadata": {},
   "outputs": [],
   "source": [
    "# prior의 길이를 다르게 만든 이유 → 더 중요한 파라미터(slope)에 더 자세하게\n",
    "qs1 = np.linspace(-0.5, 1.4, 51)\n",
    "prior_slope = make_uniform(qs1, name='Slope')\n",
    "qs2 = np.linspace(53, 71, 41)\n",
    "prior_inter = make_uniform(qs2, name='Intercept')\n",
    "qs3 = np.linspace(20, 33, 21)\n",
    "prior_sigma = make_uniform(qs3, name='Sigma')"
   ]
  },
  {
   "cell_type": "code",
   "execution_count": 19,
   "metadata": {},
   "outputs": [
    {
     "data": {
      "text/html": [
       "<div>\n",
       "<style scoped>\n",
       "    .dataframe tbody tr th:only-of-type {\n",
       "        vertical-align: middle;\n",
       "    }\n",
       "\n",
       "    .dataframe tbody tr th {\n",
       "        vertical-align: top;\n",
       "    }\n",
       "\n",
       "    .dataframe thead th {\n",
       "        text-align: right;\n",
       "    }\n",
       "</style>\n",
       "<table border=\"1\" class=\"dataframe\">\n",
       "  <thead>\n",
       "    <tr style=\"text-align: right;\">\n",
       "      <th></th>\n",
       "      <th></th>\n",
       "      <th></th>\n",
       "      <th>probs</th>\n",
       "    </tr>\n",
       "  </thead>\n",
       "  <tbody>\n",
       "    <tr>\n",
       "      <th rowspan=\"5\" valign=\"top\">-0.5</th>\n",
       "      <th rowspan=\"5\" valign=\"top\">53.0</th>\n",
       "      <th>20.00</th>\n",
       "      <td>0.000023</td>\n",
       "    </tr>\n",
       "    <tr>\n",
       "      <th>20.65</th>\n",
       "      <td>0.000023</td>\n",
       "    </tr>\n",
       "    <tr>\n",
       "      <th>21.30</th>\n",
       "      <td>0.000023</td>\n",
       "    </tr>\n",
       "    <tr>\n",
       "      <th>21.95</th>\n",
       "      <td>0.000023</td>\n",
       "    </tr>\n",
       "    <tr>\n",
       "      <th>22.60</th>\n",
       "      <td>0.000023</td>\n",
       "    </tr>\n",
       "    <tr>\n",
       "      <th>...</th>\n",
       "      <th>...</th>\n",
       "      <th>...</th>\n",
       "      <td>...</td>\n",
       "    </tr>\n",
       "    <tr>\n",
       "      <th rowspan=\"5\" valign=\"top\">1.4</th>\n",
       "      <th rowspan=\"5\" valign=\"top\">71.0</th>\n",
       "      <th>30.40</th>\n",
       "      <td>0.000023</td>\n",
       "    </tr>\n",
       "    <tr>\n",
       "      <th>31.05</th>\n",
       "      <td>0.000023</td>\n",
       "    </tr>\n",
       "    <tr>\n",
       "      <th>31.70</th>\n",
       "      <td>0.000023</td>\n",
       "    </tr>\n",
       "    <tr>\n",
       "      <th>32.35</th>\n",
       "      <td>0.000023</td>\n",
       "    </tr>\n",
       "    <tr>\n",
       "      <th>33.00</th>\n",
       "      <td>0.000023</td>\n",
       "    </tr>\n",
       "  </tbody>\n",
       "</table>\n",
       "<p>43911 rows × 1 columns</p>\n",
       "</div>"
      ],
      "text/plain": [
       "-0.5  53.0  20.00    0.000023\n",
       "            20.65    0.000023\n",
       "            21.30    0.000023\n",
       "            21.95    0.000023\n",
       "            22.60    0.000023\n",
       "                       ...   \n",
       " 1.4  71.0  30.40    0.000023\n",
       "            31.05    0.000023\n",
       "            31.70    0.000023\n",
       "            32.35    0.000023\n",
       "            33.00    0.000023\n",
       "Name: , Length: 43911, dtype: float64"
      ]
     },
     "execution_count": 19,
     "metadata": {},
     "output_type": "execute_result"
    }
   ],
   "source": [
    "prior = make_joint3(prior_slope, prior_inter, prior_sigma)\n",
    "prior"
   ]
  },
  {
   "cell_type": "code",
   "execution_count": 20,
   "metadata": {},
   "outputs": [],
   "source": [
    "# 모수들을 알고 있다고 가정 → 흐름을 파악하기 위한 임시 작업\n",
    "inter = 63\n",
    "slope = 0.42\n",
    "sigma = 27"
   ]
  },
  {
   "cell_type": "code",
   "execution_count": 21,
   "metadata": {},
   "outputs": [
    {
     "data": {
      "text/plain": [
       "1.0298257696756573e-110"
      ]
     },
     "execution_count": 21,
     "metadata": {},
     "output_type": "execute_result"
    }
   ],
   "source": [
    "xs = data['x']\n",
    "ys = data['y']\n",
    "expected = inter + slope*xs\n",
    "resid = ys - expected\n",
    "densities = ss.norm(0, sigma).pdf(resid)\n",
    "likelihood = densities.prod()\n",
    "likelihood"
   ]
  },
  {
   "cell_type": "code",
   "execution_count": 24,
   "metadata": {},
   "outputs": [],
   "source": [
    "likelihood = prior.copy()\n",
    "for slope, inter, sigma in prior.copy().index:\n",
    "    expected = inter + slope*xs\n",
    "    resid = ys - expected\n",
    "    densities = ss.norm(0, sigma).pdf(resid)\n",
    "    likelihood[slope, inter, sigma] = densities.prod()"
   ]
  },
  {
   "cell_type": "code",
   "execution_count": 25,
   "metadata": {},
   "outputs": [
    {
     "data": {
      "text/plain": [
       "7.388832335294881e-112"
      ]
     },
     "execution_count": 25,
     "metadata": {},
     "output_type": "execute_result"
    }
   ],
   "source": [
    "posterior = prior * likelihood\n",
    "posterior.normalize()"
   ]
  },
  {
   "cell_type": "code",
   "execution_count": 26,
   "metadata": {},
   "outputs": [],
   "source": [
    "posterior_slope = posterior.marginal(0)\n",
    "posterior_inter = posterior.marginal(1)\n",
    "posterior_sigma = posterior.marginal(2)"
   ]
  },
  {
   "cell_type": "code",
   "execution_count": 27,
   "metadata": {},
   "outputs": [
    {
     "data": {
      "text/plain": [
       "(62.70462674233206, array([56.6, 68.3]))"
      ]
     },
     "execution_count": 27,
     "metadata": {},
     "output_type": "execute_result"
    },
    {
     "data": {
      "image/png": "[encoded data removed]",
      "text/plain": [
       "<Figure size 432x288 with 1 Axes>"
      ]
     },
     "metadata": {
      "needs_background": "light"
     },
     "output_type": "display_data"
    }
   ],
   "source": [
    "posterior_inter.plot()\n",
    "posterior_inter.mean(), posterior_inter.credible_interval(0.9)"
   ]
  },
  {
   "cell_type": "code",
   "execution_count": 28,
   "metadata": {},
   "outputs": [
    {
     "data": {
      "text/plain": [
       "(0.42382562392867706, array([0.032, 0.83 ]), array(-0.082), array(0.04249183))"
      ]
     },
     "execution_count": 28,
     "metadata": {},
     "output_type": "execute_result"
    },
    {
     "data": {
      "image/png": "[encoded data removed]",
      "text/plain": [
       "<Figure size 432x288 with 1 Axes>"
      ]
     },
     "metadata": {
      "needs_background": "light"
     },
     "output_type": "display_data"
    }
   ],
   "source": [
    "posterior_slope.plot()\n",
    "posterior_slope.mean(), posterior_slope.credible_interval(0.9), posterior_slope.quantile(0.02), posterior_slope.make_cdf()(0)"
   ]
  },
  {
   "cell_type": "code",
   "execution_count": 29,
   "metadata": {},
   "outputs": [
    {
     "data": {
      "text/html": [
       "<div>\n",
       "<style scoped>\n",
       "    .dataframe tbody tr th:only-of-type {\n",
       "        vertical-align: middle;\n",
       "    }\n",
       "\n",
       "    .dataframe tbody tr th {\n",
       "        vertical-align: top;\n",
       "    }\n",
       "\n",
       "    .dataframe thead th {\n",
       "        text-align: right;\n",
       "    }\n",
       "</style>\n",
       "<table border=\"1\" class=\"dataframe\">\n",
       "  <thead>\n",
       "    <tr style=\"text-align: right;\">\n",
       "      <th></th>\n",
       "      <th>Time</th>\n",
       "      <th>Name</th>\n",
       "      <th>Nationality</th>\n",
       "      <th>Date</th>\n",
       "      <th>Event/Place</th>\n",
       "      <th>Source</th>\n",
       "      <th>Notes</th>\n",
       "      <th>date</th>\n",
       "      <th>time</th>\n",
       "      <th>y</th>\n",
       "    </tr>\n",
       "  </thead>\n",
       "  <tbody>\n",
       "    <tr>\n",
       "      <th>32</th>\n",
       "      <td>2:09:28.8</td>\n",
       "      <td>Ron Hill</td>\n",
       "      <td>United Kingdom</td>\n",
       "      <td>July 23, 1970</td>\n",
       "      <td>Edinburgh, Scotland</td>\n",
       "      <td>ARRS[9]</td>\n",
       "      <td>NaN</td>\n",
       "      <td>1970-07-23</td>\n",
       "      <td>0 days 02:09:28.800000</td>\n",
       "      <td>12.140871</td>\n",
       "    </tr>\n",
       "    <tr>\n",
       "      <th>33</th>\n",
       "      <td>2:09:12</td>\n",
       "      <td>Ian Thompson</td>\n",
       "      <td>United Kingdom</td>\n",
       "      <td>January 31, 1974</td>\n",
       "      <td>Christchurch, New Zealand</td>\n",
       "      <td>ARRS[9]</td>\n",
       "      <td>NaN</td>\n",
       "      <td>1974-01-31</td>\n",
       "      <td>0 days 02:09:12</td>\n",
       "      <td>12.167183</td>\n",
       "    </tr>\n",
       "    <tr>\n",
       "      <th>34</th>\n",
       "      <td>2:09:05.6</td>\n",
       "      <td>Shigeru So</td>\n",
       "      <td>Japan</td>\n",
       "      <td>February 5, 1978</td>\n",
       "      <td>Beppu-Ōita Marathon</td>\n",
       "      <td>ARRS[9]</td>\n",
       "      <td>NaN</td>\n",
       "      <td>1978-02-05</td>\n",
       "      <td>0 days 02:09:05.600000</td>\n",
       "      <td>12.177236</td>\n",
       "    </tr>\n",
       "    <tr>\n",
       "      <th>35</th>\n",
       "      <td>2:09:01</td>\n",
       "      <td>Gerard Nijboer</td>\n",
       "      <td>Netherlands</td>\n",
       "      <td>April 26, 1980</td>\n",
       "      <td>Amsterdam Marathon</td>\n",
       "      <td>ARRS[9]</td>\n",
       "      <td>NaN</td>\n",
       "      <td>1980-04-26</td>\n",
       "      <td>0 days 02:09:01</td>\n",
       "      <td>12.184472</td>\n",
       "    </tr>\n",
       "    <tr>\n",
       "      <th>36</th>\n",
       "      <td>2:08:18</td>\n",
       "      <td>Robert De Castella</td>\n",
       "      <td>Australia</td>\n",
       "      <td>December 6, 1981</td>\n",
       "      <td>Fukuoka Marathon</td>\n",
       "      <td>IAAF,[52] ARRS[9]</td>\n",
       "      <td>NaN</td>\n",
       "      <td>1981-12-06</td>\n",
       "      <td>0 days 02:08:18</td>\n",
       "      <td>12.252533</td>\n",
       "    </tr>\n",
       "  </tbody>\n",
       "</table>\n",
       "</div>"
      ],
      "text/plain": [
       "         Time                Name     Nationality              Date  \\\n",
       "32  2:09:28.8            Ron Hill  United Kingdom     July 23, 1970   \n",
       "33    2:09:12        Ian Thompson  United Kingdom  January 31, 1974   \n",
       "34  2:09:05.6          Shigeru So           Japan  February 5, 1978   \n",
       "35    2:09:01      Gerard Nijboer     Netherlands    April 26, 1980   \n",
       "36    2:08:18  Robert De Castella       Australia  December 6, 1981   \n",
       "\n",
       "                  Event/Place             Source Notes       date  \\\n",
       "32        Edinburgh, Scotland            ARRS[9]   NaN 1970-07-23   \n",
       "33  Christchurch, New Zealand            ARRS[9]   NaN 1974-01-31   \n",
       "34        Beppu-Ōita Marathon            ARRS[9]   NaN 1978-02-05   \n",
       "35         Amsterdam Marathon            ARRS[9]   NaN 1980-04-26   \n",
       "36           Fukuoka Marathon  IAAF,[52] ARRS[9]   NaN 1981-12-06   \n",
       "\n",
       "                     time          y  \n",
       "32 0 days 02:09:28.800000  12.140871  \n",
       "33        0 days 02:09:12  12.167183  \n",
       "34 0 days 02:09:05.600000  12.177236  \n",
       "35        0 days 02:09:01  12.184472  \n",
       "36        0 days 02:08:18  12.252533  "
      ]
     },
     "execution_count": 29,
     "metadata": {},
     "output_type": "execute_result"
    }
   ],
   "source": [
    "url = 'https://en.wikipedia.org/wiki/Marathon_world_record_progression#Men'\n",
    "table = pd.read_html(url)[0]\n",
    "table['date'] = pd.to_datetime(table['Date'], errors='coerce')\n",
    "table['time'] = pd.to_timedelta(table['Time'])\n",
    "# 42.195 / 1.61\n",
    "table['y'] = 26.2 / table['time'].dt.total_seconds() * 3600\n",
    "recent = table['date'] > pd.to_datetime('1970')\n",
    "data = table.loc[recent].copy()\n",
    "data.head()"
   ]
  },
  {
   "cell_type": "code",
   "execution_count": 30,
   "metadata": {},
   "outputs": [
    {
     "data": {
      "text/html": [
       "<div>\n",
       "<style scoped>\n",
       "    .dataframe tbody tr th:only-of-type {\n",
       "        vertical-align: middle;\n",
       "    }\n",
       "\n",
       "    .dataframe tbody tr th {\n",
       "        vertical-align: top;\n",
       "    }\n",
       "\n",
       "    .dataframe thead th {\n",
       "        text-align: right;\n",
       "    }\n",
       "</style>\n",
       "<table border=\"1\" class=\"dataframe\">\n",
       "  <thead>\n",
       "    <tr style=\"text-align: right;\">\n",
       "      <th></th>\n",
       "      <th>Time</th>\n",
       "      <th>Name</th>\n",
       "      <th>Nationality</th>\n",
       "      <th>Date</th>\n",
       "      <th>Event/Place</th>\n",
       "      <th>Source</th>\n",
       "      <th>Notes</th>\n",
       "      <th>date</th>\n",
       "      <th>time</th>\n",
       "      <th>y</th>\n",
       "      <th>x</th>\n",
       "    </tr>\n",
       "  </thead>\n",
       "  <tbody>\n",
       "    <tr>\n",
       "      <th>32</th>\n",
       "      <td>2:09:28.8</td>\n",
       "      <td>Ron Hill</td>\n",
       "      <td>United Kingdom</td>\n",
       "      <td>July 23, 1970</td>\n",
       "      <td>Edinburgh, Scotland</td>\n",
       "      <td>ARRS[9]</td>\n",
       "      <td>NaN</td>\n",
       "      <td>1970-07-23</td>\n",
       "      <td>0 days 02:09:28.800000</td>\n",
       "      <td>12.140871</td>\n",
       "      <td>-24.444201</td>\n",
       "    </tr>\n",
       "    <tr>\n",
       "      <th>33</th>\n",
       "      <td>2:09:12</td>\n",
       "      <td>Ian Thompson</td>\n",
       "      <td>United Kingdom</td>\n",
       "      <td>January 31, 1974</td>\n",
       "      <td>Christchurch, New Zealand</td>\n",
       "      <td>ARRS[9]</td>\n",
       "      <td>NaN</td>\n",
       "      <td>1974-01-31</td>\n",
       "      <td>0 days 02:09:12</td>\n",
       "      <td>12.167183</td>\n",
       "      <td>-20.917753</td>\n",
       "    </tr>\n",
       "    <tr>\n",
       "      <th>34</th>\n",
       "      <td>2:09:05.6</td>\n",
       "      <td>Shigeru So</td>\n",
       "      <td>Japan</td>\n",
       "      <td>February 5, 1978</td>\n",
       "      <td>Beppu-Ōita Marathon</td>\n",
       "      <td>ARRS[9]</td>\n",
       "      <td>NaN</td>\n",
       "      <td>1978-02-05</td>\n",
       "      <td>0 days 02:09:05.600000</td>\n",
       "      <td>12.177236</td>\n",
       "      <td>-16.903954</td>\n",
       "    </tr>\n",
       "    <tr>\n",
       "      <th>35</th>\n",
       "      <td>2:09:01</td>\n",
       "      <td>Gerard Nijboer</td>\n",
       "      <td>Netherlands</td>\n",
       "      <td>April 26, 1980</td>\n",
       "      <td>Amsterdam Marathon</td>\n",
       "      <td>ARRS[9]</td>\n",
       "      <td>NaN</td>\n",
       "      <td>1980-04-26</td>\n",
       "      <td>0 days 02:09:01</td>\n",
       "      <td>12.184472</td>\n",
       "      <td>-14.683496</td>\n",
       "    </tr>\n",
       "    <tr>\n",
       "      <th>36</th>\n",
       "      <td>2:08:18</td>\n",
       "      <td>Robert De Castella</td>\n",
       "      <td>Australia</td>\n",
       "      <td>December 6, 1981</td>\n",
       "      <td>Fukuoka Marathon</td>\n",
       "      <td>IAAF,[52] ARRS[9]</td>\n",
       "      <td>NaN</td>\n",
       "      <td>1981-12-06</td>\n",
       "      <td>0 days 02:08:18</td>\n",
       "      <td>12.252533</td>\n",
       "      <td>-13.070858</td>\n",
       "    </tr>\n",
       "  </tbody>\n",
       "</table>\n",
       "</div>"
      ],
      "text/plain": [
       "         Time                Name     Nationality              Date  \\\n",
       "32  2:09:28.8            Ron Hill  United Kingdom     July 23, 1970   \n",
       "33    2:09:12        Ian Thompson  United Kingdom  January 31, 1974   \n",
       "34  2:09:05.6          Shigeru So           Japan  February 5, 1978   \n",
       "35    2:09:01      Gerard Nijboer     Netherlands    April 26, 1980   \n",
       "36    2:08:18  Robert De Castella       Australia  December 6, 1981   \n",
       "\n",
       "                  Event/Place             Source Notes       date  \\\n",
       "32        Edinburgh, Scotland            ARRS[9]   NaN 1970-07-23   \n",
       "33  Christchurch, New Zealand            ARRS[9]   NaN 1974-01-31   \n",
       "34        Beppu-Ōita Marathon            ARRS[9]   NaN 1978-02-05   \n",
       "35         Amsterdam Marathon            ARRS[9]   NaN 1980-04-26   \n",
       "36           Fukuoka Marathon  IAAF,[52] ARRS[9]   NaN 1981-12-06   \n",
       "\n",
       "                     time          y          x  \n",
       "32 0 days 02:09:28.800000  12.140871 -24.444201  \n",
       "33        0 days 02:09:12  12.167183 -20.917753  \n",
       "34 0 days 02:09:05.600000  12.177236 -16.903954  \n",
       "35        0 days 02:09:01  12.184472 -14.683496  \n",
       "36        0 days 02:08:18  12.252533 -13.070858  "
      ]
     },
     "execution_count": 30,
     "metadata": {},
     "output_type": "execute_result"
    }
   ],
   "source": [
    "offset = pd.to_datetime('1995')\n",
    "timedelta = data['date'] - offset\n",
    "data['x'] = timedelta.dt.total_seconds() / 3600 / 24 / 365.24\n",
    "data.head()"
   ]
  },
  {
   "cell_type": "code",
   "execution_count": 31,
   "metadata": {},
   "outputs": [
    {
     "data": {
      "text/plain": [
       "(Intercept    12.464040\n",
       " x             0.015931\n",
       " dtype: float64,\n",
       " 0.04419653543387639)"
      ]
     },
     "execution_count": 31,
     "metadata": {},
     "output_type": "execute_result"
    }
   ],
   "source": [
    "formula = 'y ~ x'\n",
    "results = smfa.ols(formula, data=data).fit()\n",
    "results.params, results.resid.std()"
   ]
  },
  {
   "cell_type": "code",
   "execution_count": 32,
   "metadata": {},
   "outputs": [
    {
     "name": "stderr",
     "output_type": "stream",
     "text": [
      "C:\\Users\\admin\\AppData\\Roaming\\Python\\Python310\\site-packages\\scipy\\stats\\stats.py:1541: UserWarning: kurtosistest only valid for n>=20 ... continuing anyway, n=19\n",
      "  warnings.warn(\"kurtosistest only valid for n>=20 ... continuing \"\n"
     ]
    },
    {
     "data": {
      "text/html": [
       "<table class=\"simpletable\">\n",
       "<caption>OLS Regression Results</caption>\n",
       "<tr>\n",
       "  <th>Dep. Variable:</th>            <td>y</td>        <th>  R-squared:         </th> <td>   0.972</td>\n",
       "</tr>\n",
       "<tr>\n",
       "  <th>Model:</th>                   <td>OLS</td>       <th>  Adj. R-squared:    </th> <td>   0.970</td>\n",
       "</tr>\n",
       "<tr>\n",
       "  <th>Method:</th>             <td>Least Squares</td>  <th>  F-statistic:       </th> <td>   580.6</td>\n",
       "</tr>\n",
       "<tr>\n",
       "  <th>Date:</th>             <td>Sat, 16 Sep 2023</td> <th>  Prob (F-statistic):</th> <td>1.40e-14</td>\n",
       "</tr>\n",
       "<tr>\n",
       "  <th>Time:</th>                 <td>12:23:55</td>     <th>  Log-Likelihood:    </th> <td>  32.817</td>\n",
       "</tr>\n",
       "<tr>\n",
       "  <th>No. Observations:</th>      <td>    19</td>      <th>  AIC:               </th> <td>  -61.63</td>\n",
       "</tr>\n",
       "<tr>\n",
       "  <th>Df Residuals:</th>          <td>    17</td>      <th>  BIC:               </th> <td>  -59.74</td>\n",
       "</tr>\n",
       "<tr>\n",
       "  <th>Df Model:</th>              <td>     1</td>      <th>                     </th>     <td> </td>   \n",
       "</tr>\n",
       "<tr>\n",
       "  <th>Covariance Type:</th>      <td>nonrobust</td>    <th>                     </th>     <td> </td>   \n",
       "</tr>\n",
       "</table>\n",
       "<table class=\"simpletable\">\n",
       "<tr>\n",
       "      <td></td>         <th>coef</th>     <th>std err</th>      <th>t</th>      <th>P>|t|</th>  <th>[0.025</th>    <th>0.975]</th>  \n",
       "</tr>\n",
       "<tr>\n",
       "  <th>Intercept</th> <td>   12.4640</td> <td>    0.011</td> <td> 1183.584</td> <td> 0.000</td> <td>   12.442</td> <td>   12.486</td>\n",
       "</tr>\n",
       "<tr>\n",
       "  <th>x</th>         <td>    0.0159</td> <td>    0.001</td> <td>   24.095</td> <td> 0.000</td> <td>    0.015</td> <td>    0.017</td>\n",
       "</tr>\n",
       "</table>\n",
       "<table class=\"simpletable\">\n",
       "<tr>\n",
       "  <th>Omnibus:</th>       <td> 1.855</td> <th>  Durbin-Watson:     </th> <td>   0.944</td>\n",
       "</tr>\n",
       "<tr>\n",
       "  <th>Prob(Omnibus):</th> <td> 0.396</td> <th>  Jarque-Bera (JB):  </th> <td>   1.347</td>\n",
       "</tr>\n",
       "<tr>\n",
       "  <th>Skew:</th>          <td> 0.443</td> <th>  Prob(JB):          </th> <td>   0.510</td>\n",
       "</tr>\n",
       "<tr>\n",
       "  <th>Kurtosis:</th>      <td> 2.043</td> <th>  Cond. No.          </th> <td>    16.1</td>\n",
       "</tr>\n",
       "</table><br/><br/>Notes:<br/>[1] Standard Errors assume that the covariance matrix of the errors is correctly specified."
      ],
      "text/plain": [
       "<class 'statsmodels.iolib.summary.Summary'>\n",
       "\"\"\"\n",
       "                            OLS Regression Results                            \n",
       "==============================================================================\n",
       "Dep. Variable:                      y   R-squared:                       0.972\n",
       "Model:                            OLS   Adj. R-squared:                  0.970\n",
       "Method:                 Least Squares   F-statistic:                     580.6\n",
       "Date:                Sat, 16 Sep 2023   Prob (F-statistic):           1.40e-14\n",
       "Time:                        12:23:55   Log-Likelihood:                 32.817\n",
       "No. Observations:                  19   AIC:                            -61.63\n",
       "Df Residuals:                      17   BIC:                            -59.74\n",
       "Df Model:                           1                                         \n",
       "Covariance Type:            nonrobust                                         \n",
       "==============================================================================\n",
       "                 coef    std err          t      P>|t|      [0.025      0.975]\n",
       "------------------------------------------------------------------------------\n",
       "Intercept     12.4640      0.011   1183.584      0.000      12.442      12.486\n",
       "x              0.0159      0.001     24.095      0.000       0.015       0.017\n",
       "==============================================================================\n",
       "Omnibus:                        1.855   Durbin-Watson:                   0.944\n",
       "Prob(Omnibus):                  0.396   Jarque-Bera (JB):                1.347\n",
       "Skew:                           0.443   Prob(JB):                        0.510\n",
       "Kurtosis:                       2.043   Cond. No.                         16.1\n",
       "==============================================================================\n",
       "\n",
       "Notes:\n",
       "[1] Standard Errors assume that the covariance matrix of the errors is correctly specified.\n",
       "\"\"\""
      ]
     },
     "execution_count": 32,
     "metadata": {},
     "output_type": "execute_result"
    }
   ],
   "source": [
    "results.summary()"
   ]
  },
  {
   "cell_type": "code",
   "execution_count": 33,
   "metadata": {},
   "outputs": [],
   "source": [
    "qs1 = np.linspace(0.012, 0.018, 51)\n",
    "prior_slope = make_uniform(qs1, name='Slope')\n",
    "qs2 = np.linspace(12.0, 13.2, 41)\n",
    "prior_inter = make_uniform(qs2, name='Intercept')\n",
    "qs3 = np.linspace(0.01, 0.11, 11)\n",
    "prior_sigma = make_uniform(qs3, name='Sigma')"
   ]
  },
  {
   "cell_type": "code",
   "execution_count": 34,
   "metadata": {},
   "outputs": [
    {
     "data": {
      "text/html": [
       "<div>\n",
       "<style scoped>\n",
       "    .dataframe tbody tr th:only-of-type {\n",
       "        vertical-align: middle;\n",
       "    }\n",
       "\n",
       "    .dataframe tbody tr th {\n",
       "        vertical-align: top;\n",
       "    }\n",
       "\n",
       "    .dataframe thead th {\n",
       "        text-align: right;\n",
       "    }\n",
       "</style>\n",
       "<table border=\"1\" class=\"dataframe\">\n",
       "  <thead>\n",
       "    <tr style=\"text-align: right;\">\n",
       "      <th></th>\n",
       "      <th></th>\n",
       "      <th></th>\n",
       "      <th>probs</th>\n",
       "    </tr>\n",
       "  </thead>\n",
       "  <tbody>\n",
       "    <tr>\n",
       "      <th rowspan=\"5\" valign=\"top\">0.012</th>\n",
       "      <th rowspan=\"5\" valign=\"top\">12.0</th>\n",
       "      <th>0.01</th>\n",
       "      <td>0.000043</td>\n",
       "    </tr>\n",
       "    <tr>\n",
       "      <th>0.02</th>\n",
       "      <td>0.000043</td>\n",
       "    </tr>\n",
       "    <tr>\n",
       "      <th>0.03</th>\n",
       "      <td>0.000043</td>\n",
       "    </tr>\n",
       "    <tr>\n",
       "      <th>0.04</th>\n",
       "      <td>0.000043</td>\n",
       "    </tr>\n",
       "    <tr>\n",
       "      <th>0.05</th>\n",
       "      <td>0.000043</td>\n",
       "    </tr>\n",
       "    <tr>\n",
       "      <th>...</th>\n",
       "      <th>...</th>\n",
       "      <th>...</th>\n",
       "      <td>...</td>\n",
       "    </tr>\n",
       "    <tr>\n",
       "      <th rowspan=\"5\" valign=\"top\">0.018</th>\n",
       "      <th rowspan=\"5\" valign=\"top\">13.2</th>\n",
       "      <th>0.07</th>\n",
       "      <td>0.000043</td>\n",
       "    </tr>\n",
       "    <tr>\n",
       "      <th>0.08</th>\n",
       "      <td>0.000043</td>\n",
       "    </tr>\n",
       "    <tr>\n",
       "      <th>0.09</th>\n",
       "      <td>0.000043</td>\n",
       "    </tr>\n",
       "    <tr>\n",
       "      <th>0.10</th>\n",
       "      <td>0.000043</td>\n",
       "    </tr>\n",
       "    <tr>\n",
       "      <th>0.11</th>\n",
       "      <td>0.000043</td>\n",
       "    </tr>\n",
       "  </tbody>\n",
       "</table>\n",
       "<p>23001 rows × 1 columns</p>\n",
       "</div>"
      ],
      "text/plain": [
       "0.012  12.0  0.01    0.000043\n",
       "             0.02    0.000043\n",
       "             0.03    0.000043\n",
       "             0.04    0.000043\n",
       "             0.05    0.000043\n",
       "                       ...   \n",
       "0.018  13.2  0.07    0.000043\n",
       "             0.08    0.000043\n",
       "             0.09    0.000043\n",
       "             0.10    0.000043\n",
       "             0.11    0.000043\n",
       "Name: , Length: 23001, dtype: float64"
      ]
     },
     "execution_count": 34,
     "metadata": {},
     "output_type": "execute_result"
    }
   ],
   "source": [
    "prior = make_joint3(prior_slope, prior_inter, prior_sigma)\n",
    "prior"
   ]
  },
  {
   "cell_type": "code",
   "execution_count": 35,
   "metadata": {},
   "outputs": [],
   "source": [
    "xs = data['x']\n",
    "ys = data['y']\n",
    "likelihood = prior.copy()\n",
    "for slope, inter, sigma in prior.index:\n",
    "    expected = inter + slope * xs\n",
    "    resid = ys - expected\n",
    "    densities = ss.norm(0, sigma).pdf(resid)\n",
    "    likelihood[slope, inter, sigma] = densities.prod()"
   ]
  },
  {
   "cell_type": "code",
   "execution_count": 36,
   "metadata": {},
   "outputs": [
    {
     "data": {
      "text/plain": [
       "153433648360.85608"
      ]
     },
     "execution_count": 36,
     "metadata": {},
     "output_type": "execute_result"
    }
   ],
   "source": [
    "posterior = prior * likelihood\n",
    "posterior.normalize()"
   ]
  },
  {
   "cell_type": "code",
   "execution_count": 37,
   "metadata": {},
   "outputs": [],
   "source": [
    "posterior_slope = posterior.marginal(0)\n",
    "posterior_inter = posterior.marginal(1)\n",
    "posterior_sigma = posterior.marginal(2)"
   ]
  },
  {
   "cell_type": "code",
   "execution_count": 38,
   "metadata": {},
   "outputs": [
    {
     "data": {
      "text/plain": [
       "(12.463249484305965, array([12.45, 12.48]))"
      ]
     },
     "execution_count": 38,
     "metadata": {},
     "output_type": "execute_result"
    },
    {
     "data": {
      "image/png": "[encoded data removed]",
      "text/plain": [
       "<Figure size 432x288 with 1 Axes>"
      ]
     },
     "metadata": {
      "needs_background": "light"
     },
     "output_type": "display_data"
    }
   ],
   "source": [
    "posterior_inter.plot()\n",
    "posterior_inter.mean(), posterior_inter.credible_interval(0.9)"
   ]
  },
  {
   "cell_type": "code",
   "execution_count": 39,
   "metadata": {},
   "outputs": [
    {
     "data": {
      "text/plain": [
       "(0.015928336190225528, array([0.01476, 0.01716]), array(0.01596))"
      ]
     },
     "execution_count": 39,
     "metadata": {},
     "output_type": "execute_result"
    },
    {
     "data": {
      "image/png": "[encoded data removed]",
      "text/plain": [
       "<Figure size 432x288 with 1 Axes>"
      ]
     },
     "metadata": {
      "needs_background": "light"
     },
     "output_type": "display_data"
    }
   ],
   "source": [
    "posterior_slope.plot()\n",
    "posterior_slope.mean(), posterior_slope.credible_interval(0.9), posterior_slope.quantile(0.5)"
   ]
  },
  {
   "cell_type": "code",
   "execution_count": 42,
   "metadata": {},
   "outputs": [],
   "source": [
    "# 각 세 파라미터와 관련하여 랜덤으로 추출\n",
    "sample = posterior.choice(1001)\n",
    "xs = np.arange(-25, 50)\n",
    "pred = np.zeros((len(sample), len(xs)))\n",
    "for i, (slope, inter, sigma) in enumerate(sample):\n",
    "    # 확률변수에 따른 잔차 생성 → len(xs)개\n",
    "    epsilon = ss.norm(0, sigma).rvs(len(xs))\n",
    "    pred[i] = inter + slope * xs + epsilon"
   ]
  },
  {
   "cell_type": "code",
   "execution_count": 50,
   "metadata": {},
   "outputs": [
    {
     "data": {
      "text/plain": [
       "(array([11.97181401, 11.99082174, 12.00575385, 12.02652523, 12.03750253,\n",
       "        12.05749668, 12.07149166, 12.08535526, 12.0964683 , 12.1213904 ,\n",
       "        12.13714033, 12.15476814, 12.17145604, 12.18810952, 12.20144444,\n",
       "        12.21241873, 12.22860634, 12.24289836, 12.26327049, 12.27502401,\n",
       "        12.30079488, 12.30610038, 12.324376  , 12.34071221, 12.35791535,\n",
       "        12.37789202, 12.3894454 , 12.408667  , 12.42747111, 12.44828477,\n",
       "        12.46019971, 12.47070097, 12.48896454, 12.5043575 , 12.51856352,\n",
       "        12.5343857 , 12.54651876, 12.56678447, 12.58075802, 12.59839018,\n",
       "        12.60885468, 12.62881218, 12.64197381, 12.66510299, 12.67446371,\n",
       "        12.69294634, 12.71060155, 12.72716533, 12.73867862, 12.75646696,\n",
       "        12.76450492, 12.78756461, 12.80270016, 12.81855054, 12.83930217,\n",
       "        12.84713642, 12.86877665, 12.87821853, 12.90071881, 12.90914751,\n",
       "        12.92941255, 12.93615553, 12.95751676, 12.97122849, 12.98811856,\n",
       "        13.00408267, 13.01291246, 13.03373259, 13.04702588, 13.06494516,\n",
       "        13.07385789, 13.09547344, 13.11349564, 13.11336451, 13.13970936]),\n",
       " array([12.06376271, 12.08124376, 12.09660905, 12.11238286, 12.12679741,\n",
       "        12.14164204, 12.16305725, 12.17641396, 12.19300413, 12.20785759,\n",
       "        12.22453626, 12.24088495, 12.25665705, 12.27231083, 12.2890278 ,\n",
       "        12.30422031, 12.3239252 , 12.33618419, 12.35478991, 12.37092898,\n",
       "        12.38294961, 12.40025903, 12.41709578, 12.43202066, 12.4434232 ,\n",
       "        12.46385073, 12.47827117, 12.49588287, 12.50939805, 12.52895032,\n",
       "        12.54092107, 12.55604126, 12.57389135, 12.59022963, 12.60922095,\n",
       "        12.62687862, 12.63788449, 12.6522468 , 12.67264957, 12.68832857,\n",
       "        12.7002022 , 12.71532398, 12.73296074, 12.74626896, 12.76393702,\n",
       "        12.78338964, 12.7973673 , 12.81717685, 12.8310465 , 12.84438985,\n",
       "        12.86112693, 12.87886402, 12.89343218, 12.90868113, 12.92272247,\n",
       "        12.93959091, 12.95723343, 12.97487286, 12.98913569, 13.00473337,\n",
       "        13.01792623, 13.03315312, 13.05634457, 13.06758939, 13.089244  ,\n",
       "        13.1026901 , 13.11807737, 13.13328884, 13.14648241, 13.16580626,\n",
       "        13.18062538, 13.19613524, 13.21258027, 13.22998619, 13.24617324]),\n",
       " array([12.16723486, 12.17176318, 12.18871601, 12.21343678, 12.22111335,\n",
       "        12.23190174, 12.25757339, 12.26341164, 12.28399266, 12.29288772,\n",
       "        12.31882973, 12.33052404, 12.34459707, 12.36619272, 12.37862039,\n",
       "        12.3959186 , 12.40766125, 12.42150828, 12.43811201, 12.45872427,\n",
       "        12.47095048, 12.48685585, 12.50419235, 12.51772013, 12.53310465,\n",
       "        12.55457177, 12.56198196, 12.58202694, 12.59407707, 12.61236393,\n",
       "        12.62539831, 12.64493516, 12.66438471, 12.67497086, 12.69424204,\n",
       "        12.71303224, 12.72509742, 12.73405734, 12.75719458, 12.77677625,\n",
       "        12.78629462, 12.80699532, 12.82013492, 12.83591901, 12.84766442,\n",
       "        12.8739392 , 12.88380439, 12.90158074, 12.92598978, 12.94458994,\n",
       "        12.9478052 , 12.96898686, 12.98474783, 12.99966783, 13.02093707,\n",
       "        13.03964259, 13.05591674, 13.06655015, 13.08725734, 13.10018304,\n",
       "        13.11370956, 13.13015552, 13.15193842, 13.16813328, 13.18179067,\n",
       "        13.20462803, 13.2086617 , 13.23541069, 13.24705372, 13.26240487,\n",
       "        13.27637193, 13.30283456, 13.31275474, 13.33528745, 13.35280648]))"
      ]
     },
     "execution_count": 50,
     "metadata": {},
     "output_type": "execute_result"
    }
   ],
   "source": [
    "low, median, high = np.percentile(pred, [5, 50, 95], axis=0)\n",
    "low, median, high"
   ]
  },
  {
   "cell_type": "code",
   "execution_count": 51,
   "metadata": {},
   "outputs": [
    {
     "data": {
      "text/plain": [
       "[<matplotlib.lines.Line2D at 0x204b591e260>]"
      ]
     },
     "execution_count": 51,
     "metadata": {},
     "output_type": "execute_result"
    },
    {
     "data": {
      "image/png": "[encoded data removed]",
      "text/plain": [
       "<Figure size 432x288 with 1 Axes>"
      ]
     },
     "metadata": {
      "needs_background": "light"
     },
     "output_type": "display_data"
    }
   ],
   "source": [
    "times = pd.to_timedelta(xs * 365.24, unit='days') + offset\n",
    "plt.axhline(13.1, linestyle='--')\n",
    "plt.fill_between(times, low, high, color='C2', alpha=0.1)\n",
    "plt.plot(times, median, color='C2')"
   ]
  },
  {
   "cell_type": "code",
   "execution_count": 52,
   "metadata": {},
   "outputs": [
    {
     "data": {
      "text/plain": [
       "array(33.98583922)"
      ]
     },
     "execution_count": 52,
     "metadata": {},
     "output_type": "execute_result"
    }
   ],
   "source": [
    "interp1d(high, xs)(13.1)"
   ]
  },
  {
   "cell_type": "code",
   "execution_count": 53,
   "metadata": {},
   "outputs": [
    {
     "data": {
      "text/plain": [
       "DatetimeIndex(['2028-12-25 23:42:36.088070400',\n",
       "               '2034-10-19 12:40:31.511913600',\n",
       "               '2041-07-03 20:32:48.257548800'],\n",
       "              dtype='datetime64[ns]', freq=None)"
      ]
     },
     "execution_count": 53,
     "metadata": {},
     "output_type": "execute_result"
    }
   ],
   "source": [
    "future = np.array([interp1d(high, xs)(13.1), interp1d(median, xs)(13.1), interp1d(low, xs)(13.1)])\n",
    "future_times = pd.to_timedelta(future * 365.24, unit='days') + offset\n",
    "future_times"
   ]
  },
  {
   "cell_type": "code",
   "execution_count": null,
   "metadata": {},
   "outputs": [],
   "source": []
  }
 ],
 "metadata": {
  "kernelspec": {
   "display_name": "base",
   "language": "python",
   "name": "python3"
  },
  "language_info": {
   "codemirror_mode": {
    "name": "ipython",
    "version": 3
   },
   "file_extension": ".py",
   "mimetype": "text/x-python",
   "name": "python",
   "nbconvert_exporter": "python",
   "pygments_lexer": "ipython3",
   "version": "3.10.9"
  },
  "orig_nbformat": 4
 },
 "nbformat": 4,
 "nbformat_minor": 2
}
